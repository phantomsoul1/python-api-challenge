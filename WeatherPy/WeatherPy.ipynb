{
 "cells": [
  {
   "cell_type": "markdown",
   "metadata": {},
   "source": [
    "# WeatherPy\n",
    "----\n",
    "\n",
    "#### Note\n",
    "* Instructions have been included for each segment. You do not have to follow them exactly, but they are included to help you think through the steps."
   ]
  },
  {
   "cell_type": "code",
   "execution_count": 40,
   "metadata": {
    "scrolled": true
   },
   "outputs": [],
   "source": [
    "# Dependencies and Setup\n",
    "import matplotlib.pyplot as plt\n",
    "import pandas as pd\n",
    "import numpy as np\n",
    "import requests\n",
    "import time\n",
    "from scipy.stats import linregress\n",
    "\n",
    "# Import API key\n",
    "from api_keys import weather_api_key\n",
    "\n",
    "# Incorporated citipy to determine city based on latitude and longitude\n",
    "from citipy import citipy\n",
    "\n",
    "# pprint - useful for browsing api results\n",
    "from pprint import pprint\n",
    "\n",
    "# Output File (CSV)\n",
    "output_data_file = \"output_data/cities.csv\"\n",
    "\n",
    "# Range of latitudes and longitudes\n",
    "lat_range = (-90, 90)\n",
    "lng_range = (-180, 180)"
   ]
  },
  {
   "cell_type": "markdown",
   "metadata": {},
   "source": [
    "## Generate Cities List"
   ]
  },
  {
   "cell_type": "code",
   "execution_count": 41,
   "metadata": {},
   "outputs": [
    {
     "data": {
      "text/plain": [
       "605"
      ]
     },
     "execution_count": 41,
     "metadata": {},
     "output_type": "execute_result"
    }
   ],
   "source": [
    "# List for holding lat_lngs and cities\n",
    "lat_lngs = []\n",
    "cities = []\n",
    "\n",
    "# Create a set of random lat and lng combinations\n",
    "lats = np.random.uniform(lat_range[0], lat_range[1], size=1500)\n",
    "lngs = np.random.uniform(lng_range[0], lng_range[1], size=1500)\n",
    "lat_lngs = zip(lats, lngs)\n",
    "\n",
    "# Identify nearest city for each lat, lng combination\n",
    "for lat_lng in lat_lngs:\n",
    "    city = citipy.nearest_city(lat_lng[0], lat_lng[1]).city_name\n",
    "    \n",
    "    # If the city is unique, then add it to a our cities list\n",
    "    if city not in cities:\n",
    "        cities.append(city)\n",
    "\n",
    "# Print the city count to confirm sufficient count\n",
    "len(cities)"
   ]
  },
  {
   "cell_type": "markdown",
   "metadata": {},
   "source": [
    "### Perform API Calls\n",
    "* Perform a weather check on each city using a series of successive API calls.\n",
    "* Include a print log of each city as it'sbeing processed (with the city number and city name).\n"
   ]
  },
  {
   "cell_type": "code",
   "execution_count": 45,
   "metadata": {},
   "outputs": [
    {
     "name": "stdout",
     "output_type": "stream",
     "text": [
      "Test query: https://api.openweathermap.org/data/2.5/weather?units=imperial&q=rikitea\n",
      "{'base': 'stations',\n",
      " 'clouds': {'all': 100},\n",
      " 'cod': 200,\n",
      " 'coord': {'lat': -23.12, 'lon': -134.97},\n",
      " 'dt': 1595004539,\n",
      " 'id': 4030556,\n",
      " 'main': {'feels_like': 73.38,\n",
      "          'grnd_level': 1013,\n",
      "          'humidity': 82,\n",
      "          'pressure': 1016,\n",
      "          'sea_level': 1016,\n",
      "          'temp': 73.33,\n",
      "          'temp_max': 73.33,\n",
      "          'temp_min': 73.33},\n",
      " 'name': 'Rikitea',\n",
      " 'rain': {'1h': 0.5},\n",
      " 'sys': {'country': 'PF', 'sunrise': 1595000388, 'sunset': 1595039518},\n",
      " 'timezone': -32400,\n",
      " 'visibility': 10000,\n",
      " 'weather': [{'description': 'light rain',\n",
      "              'icon': '10d',\n",
      "              'id': 500,\n",
      "              'main': 'Rain'}],\n",
      " 'wind': {'deg': 12, 'speed': 11.3}}\n"
     ]
    }
   ],
   "source": [
    "#Define the base URL for all queries to Open Weather Map\n",
    "base_url = \"https://api.openweathermap.org/data/2.5/weather?units=imperial&q=\"\n",
    "\n",
    "#Create a test call with the first city to examine the result layout\n",
    "query = f\"{base_url}{cities[0]}\"\n",
    "print(f\"Test query: {query}\")\n",
    "\n",
    "#Call API - add api key \"anonymously\" to reduce the chance of accidentally printing it in diagnostic output\n",
    "response = requests.get(f\"{query}&appid={weather_api_key}\") \n",
    "json = response.json()\n",
    "pprint(json)"
   ]
  },
  {
   "cell_type": "code",
   "execution_count": 46,
   "metadata": {},
   "outputs": [
    {
     "name": "stdout",
     "output_type": "stream",
     "text": [
      "Beginning Data Retrieval\n",
      "------------------------------\n",
      "Processing Record 1 of Set 1 | Rikitea\n",
      "Processing Record 2 of Set 1 | Barrow\n",
      "Processing Record 3 of Set 1 | Chapais\n",
      "Processing Record 4 of Set 1 | Castro\n",
      "Processing Record 5 of Set 1 | Pevek\n",
      "Processing Record 6 of Set 1 | Thohoyandou\n",
      "Processing Record 7 of Set 1 | Mataura\n",
      "Processing Record 8 of Set 1 | George Town\n",
      "Processing Record 9 of Set 1 | Cabo San Lucas\n",
      "Processing Record 10 of Set 1 | Sioux Lookout\n",
      "City 'barentsburg' not found; skipping...\n",
      "City 'mentok' not found; skipping...\n",
      "Processing Record 11 of Set 1 | Bethel\n",
      "Processing Record 12 of Set 1 | Leningradskiy\n",
      "Processing Record 13 of Set 1 | Caravelas\n",
      "Processing Record 14 of Set 1 | Port-Gentil\n",
      "Processing Record 15 of Set 1 | Kaitangata\n",
      "Processing Record 16 of Set 1 | Punta Arenas\n",
      "Processing Record 17 of Set 1 | Mar del Plata\n",
      "Processing Record 18 of Set 1 | Conil\n",
      "Processing Record 19 of Set 1 | Saldanha\n",
      "Processing Record 20 of Set 1 | Dunedin\n",
      "Processing Record 21 of Set 1 | Bilibino\n",
      "Processing Record 22 of Set 1 | Lompoc\n",
      "City 'belushya guba' not found; skipping...\n",
      "Processing Record 23 of Set 1 | Ahar\n",
      "Processing Record 24 of Set 1 | Constitución\n",
      "Processing Record 25 of Set 1 | Bereda\n",
      "Processing Record 26 of Set 1 | Saint-François\n",
      "Processing Record 27 of Set 1 | Nikolskoye\n",
      "Processing Record 28 of Set 1 | Oistins\n",
      "City 'taolanaro' not found; skipping...\n",
      "Processing Record 29 of Set 1 | Gamba\n",
      "Processing Record 30 of Set 1 | Limoeiro do Ajuru\n",
      "Processing Record 31 of Set 1 | Pacific Grove\n",
      "Processing Record 32 of Set 1 | Saint-Philippe\n",
      "City 'sumbawa' not found; skipping...\n",
      "Processing Record 33 of Set 1 | Jardim\n",
      "Processing Record 34 of Set 1 | Chokurdakh\n",
      "City 'amderma' not found; skipping...\n",
      "Processing Record 35 of Set 1 | Lebu\n",
      "Processing Record 36 of Set 1 | Senhor do Bonfim\n",
      "Processing Record 37 of Set 1 | Coquimbo\n",
      "Processing Record 38 of Set 1 | Atuona\n",
      "Processing Record 39 of Set 1 | Roald\n",
      "Processing Record 40 of Set 1 | Muravlenko\n",
      "Processing Record 41 of Set 1 | Port Alfred\n",
      "Processing Record 42 of Set 1 | Maumere\n",
      "Processing Record 43 of Set 1 | Hilo\n",
      "Processing Record 44 of Set 1 | Chui\n",
      "Processing Record 45 of Set 1 | Maceió\n",
      "Processing Record 46 of Set 1 | Hermanus\n",
      "Processing Record 47 of Set 1 | Jamestown\n",
      "Processing Record 48 of Set 1 | Mission\n",
      "Processing Record 49 of Set 1 | Roebourne\n",
      "Processing Record 50 of Set 1 | Cherskiy\n",
      "Processing Record 1 of Set 2 | Winston\n",
      "Processing Record 2 of Set 2 | Hithadhoo\n",
      "Processing Record 3 of Set 2 | Dingle\n",
      "Processing Record 4 of Set 2 | Norman Wells\n",
      "Processing Record 5 of Set 2 | Albany\n",
      "Processing Record 6 of Set 2 | Zhangjiakou\n",
      "Processing Record 7 of Set 2 | Valley City\n",
      "Processing Record 8 of Set 2 | Cape Town\n",
      "Processing Record 9 of Set 2 | Viişoara\n",
      "Processing Record 10 of Set 2 | São José da Coroa Grande\n",
      "Processing Record 11 of Set 2 | Geraldton\n",
      "Processing Record 12 of Set 2 | Guerrero Negro\n",
      "Processing Record 13 of Set 2 | Cockburn Town\n",
      "City 'tsihombe' not found; skipping...\n",
      "Processing Record 14 of Set 2 | Keminmaa\n",
      "Processing Record 15 of Set 2 | Rosetta\n",
      "Processing Record 16 of Set 2 | Vanavara\n",
      "Processing Record 17 of Set 2 | Busselton\n",
      "Processing Record 18 of Set 2 | Cayenne\n",
      "Processing Record 19 of Set 2 | Kapaa\n",
      "Processing Record 20 of Set 2 | Otavi\n",
      "Processing Record 21 of Set 2 | Vaini\n",
      "Processing Record 22 of Set 2 | Hasaki\n",
      "Processing Record 23 of Set 2 | Hobart\n",
      "Processing Record 24 of Set 2 | Loukhi\n",
      "Processing Record 25 of Set 2 | Qaanaaq\n",
      "Processing Record 26 of Set 2 | Leh\n",
      "Processing Record 27 of Set 2 | Arbagar\n",
      "City 'shakhrinau' not found; skipping...\n",
      "Processing Record 28 of Set 2 | Butaritari\n",
      "Processing Record 29 of Set 2 | Tuktoyaktuk\n",
      "Processing Record 30 of Set 2 | Fortuna\n",
      "Processing Record 31 of Set 2 | Port Elizabeth\n",
      "Processing Record 32 of Set 2 | La Ronge\n",
      "Processing Record 33 of Set 2 | Padang\n",
      "Processing Record 34 of Set 2 | Snyder\n",
      "Processing Record 35 of Set 2 | Itarema\n",
      "Processing Record 36 of Set 2 | Gigmoto\n",
      "Processing Record 37 of Set 2 | Rurrenabaque\n",
      "Processing Record 38 of Set 2 | Arraial do Cabo\n",
      "Processing Record 39 of Set 2 | Sakaiminato\n",
      "Processing Record 40 of Set 2 | Yellowknife\n",
      "Processing Record 41 of Set 2 | Avarua\n",
      "Processing Record 42 of Set 2 | Methven\n",
      "Processing Record 43 of Set 2 | Touros\n",
      "Processing Record 44 of Set 2 | Severo-Kuril'sk\n",
      "Processing Record 45 of Set 2 | Praia\n",
      "Processing Record 46 of Set 2 | Hambantota\n",
      "Processing Record 47 of Set 2 | Gīdam\n",
      "City 'viligili' not found; skipping...\n",
      "Processing Record 48 of Set 2 | Inyonga\n",
      "Processing Record 49 of Set 2 | North Bend\n",
      "Processing Record 50 of Set 2 | Port Macquarie\n",
      "Processing Record 1 of Set 3 | Katobu\n",
      "Processing Record 2 of Set 3 | Puerto Ayora\n",
      "Processing Record 3 of Set 3 | Fujin\n",
      "Processing Record 4 of Set 3 | Pemangkat\n",
      "Processing Record 5 of Set 3 | New Norfolk\n",
      "Processing Record 6 of Set 3 | Ostrovnoy\n",
      "Processing Record 7 of Set 3 | Terre Haute\n",
      "Processing Record 8 of Set 3 | Ponta Delgada\n",
      "Processing Record 9 of Set 3 | Bluff\n",
      "Processing Record 10 of Set 3 | Kruisfontein\n",
      "Processing Record 11 of Set 3 | Broome\n",
      "Processing Record 12 of Set 3 | Flinders\n",
      "Processing Record 13 of Set 3 | Boueni\n",
      "Processing Record 14 of Set 3 | Katsuura\n",
      "Processing Record 15 of Set 3 | Lagoa\n",
      "Processing Record 16 of Set 3 | Barra de Tecoanapa\n",
      "Processing Record 17 of Set 3 | Bredasdorp\n",
      "Processing Record 18 of Set 3 | Burnie\n",
      "Processing Record 19 of Set 3 | Cap Malheureux\n",
      "Processing Record 20 of Set 3 | Chongqing\n",
      "Processing Record 21 of Set 3 | Ushuaia\n",
      "Processing Record 22 of Set 3 | Arlit\n",
      "City 'sikea' not found; skipping...\n",
      "Processing Record 23 of Set 3 | Virtsu\n",
      "Processing Record 24 of Set 3 | Port Hardy\n",
      "Processing Record 25 of Set 3 | Lieksa\n",
      "Processing Record 26 of Set 3 | Codrington\n",
      "Processing Record 27 of Set 3 | Bengkulu\n",
      "Processing Record 28 of Set 3 | Saskylakh\n",
      "Processing Record 29 of Set 3 | Luanda\n",
      "Processing Record 30 of Set 3 | Grindavik\n",
      "Processing Record 31 of Set 3 | Kisangani\n",
      "Processing Record 32 of Set 3 | Carnarvon\n",
      "Processing Record 33 of Set 3 | Mandalgovi\n",
      "Processing Record 34 of Set 3 | Aklavik\n",
      "Processing Record 35 of Set 3 | San Cristobal\n",
      "Processing Record 36 of Set 3 | Pangnirtung\n",
      "Processing Record 37 of Set 3 | Mabaruma\n",
      "Processing Record 38 of Set 3 | Yangi Marg`ilon\n",
      "Processing Record 39 of Set 3 | Marataizes\n",
      "City 'illoqqortoormiut' not found; skipping...\n",
      "Processing Record 40 of Set 3 | Broken Hill\n",
      "Processing Record 41 of Set 3 | Thompson\n",
      "Processing Record 42 of Set 3 | Halifax\n",
      "Processing Record 43 of Set 3 | Saint George\n",
      "Processing Record 44 of Set 3 | Lüderitz\n",
      "Processing Record 45 of Set 3 | Sarlat-la-Canéda\n",
      "Processing Record 46 of Set 3 | Sühbaatar\n",
      "Processing Record 47 of Set 3 | Mahina\n",
      "Processing Record 48 of Set 3 | Richards Bay\n",
      "Processing Record 49 of Set 3 | Vilhena\n",
      "Processing Record 50 of Set 3 | Bud\n",
      "Processing Record 1 of Set 4 | San Quintín\n",
      "Processing Record 2 of Set 4 | Hong Kong\n",
      "Processing Record 3 of Set 4 | Kedrovyy\n",
      "Processing Record 4 of Set 4 | Korla\n",
      "Processing Record 5 of Set 4 | Tasiilaq\n",
      "Processing Record 6 of Set 4 | Arrondissement de Mende\n",
      "Processing Record 7 of Set 4 | Sungai Penuh\n",
      "Processing Record 8 of Set 4 | Longyearbyen\n",
      "Processing Record 9 of Set 4 | Gogrial\n",
      "Processing Record 10 of Set 4 | Sabaudia\n",
      "Processing Record 11 of Set 4 | Esperance\n",
      "Processing Record 12 of Set 4 | Mahébourg\n",
      "Processing Record 13 of Set 4 | Ürümqi\n",
      "Processing Record 14 of Set 4 | San Rafael\n",
      "Processing Record 15 of Set 4 | Kajaani\n",
      "Processing Record 16 of Set 4 | Havøysund\n",
      "Processing Record 17 of Set 4 | Loksa\n",
      "Processing Record 18 of Set 4 | Klaksvík\n",
      "Processing Record 19 of Set 4 | Catalina Foothills\n",
      "Processing Record 20 of Set 4 | Port Moresby\n",
      "Processing Record 21 of Set 4 | Syców\n",
      "Processing Record 22 of Set 4 | Rio Grande\n",
      "Processing Record 23 of Set 4 | Kavieng\n",
      "Processing Record 24 of Set 4 | Upernavik\n",
      "Processing Record 25 of Set 4 | Ilulissat\n",
      "Processing Record 26 of Set 4 | Tiksi\n",
      "Processing Record 27 of Set 4 | Morehead\n",
      "Processing Record 28 of Set 4 | Sibolga\n",
      "Processing Record 29 of Set 4 | Ponta do Sol\n",
      "Processing Record 30 of Set 4 | Torbay\n",
      "Processing Record 31 of Set 4 | Khovu-Aksy\n",
      "Processing Record 32 of Set 4 | Duluth\n",
      "City 'lolua' not found; skipping...\n",
      "Processing Record 33 of Set 4 | Grand Forks\n",
      "Processing Record 34 of Set 4 | Ocós\n"
     ]
    },
    {
     "name": "stdout",
     "output_type": "stream",
     "text": [
      "Processing Record 35 of Set 4 | Tilichiki\n",
      "Processing Record 36 of Set 4 | Labuhan\n",
      "Processing Record 37 of Set 4 | Kumul\n",
      "Processing Record 38 of Set 4 | Paracuru\n",
      "Processing Record 39 of Set 4 | Shelabolikha\n",
      "Processing Record 40 of Set 4 | Lake Havasu City\n",
      "Processing Record 41 of Set 4 | Isangel\n",
      "Processing Record 42 of Set 4 | Fairbanks\n",
      "City 'sataua' not found; skipping...\n",
      "Processing Record 43 of Set 4 | Pervomayskiy\n",
      "Processing Record 44 of Set 4 | Vágur\n",
      "Processing Record 45 of Set 4 | Pio IX\n",
      "Processing Record 46 of Set 4 | Palana\n",
      "Processing Record 47 of Set 4 | Linden\n",
      "Processing Record 48 of Set 4 | Ginir\n",
      "Processing Record 49 of Set 4 | Sobrance\n",
      "Processing Record 50 of Set 4 | Qaqortoq\n",
      "Processing Record 1 of Set 5 | São João da Barra\n",
      "Processing Record 2 of Set 5 | Ribeira Grande\n",
      "Processing Record 3 of Set 5 | Pisco\n",
      "Processing Record 4 of Set 5 | Bilma\n",
      "Processing Record 5 of Set 5 | Huimanguillo\n",
      "Processing Record 6 of Set 5 | Disna\n",
      "Processing Record 7 of Set 5 | Aksu\n",
      "City 'nizhneyansk' not found; skipping...\n",
      "Processing Record 8 of Set 5 | Rome\n",
      "Processing Record 9 of Set 5 | Bonnyville\n",
      "Processing Record 10 of Set 5 | Chicama\n",
      "Processing Record 11 of Set 5 | Westport\n",
      "Processing Record 12 of Set 5 | Cape Canaveral\n",
      "Processing Record 13 of Set 5 | Härnösand\n",
      "Processing Record 14 of Set 5 | Hobyo\n",
      "Processing Record 15 of Set 5 | San Juan\n",
      "Processing Record 16 of Set 5 | Airai\n",
      "Processing Record 17 of Set 5 | Dikson\n",
      "Processing Record 18 of Set 5 | Ardahan\n",
      "Processing Record 19 of Set 5 | Porto Santo\n",
      "Processing Record 20 of Set 5 | Flin Flon\n",
      "Processing Record 21 of Set 5 | Miquelon\n",
      "Processing Record 22 of Set 5 | Suntar\n",
      "Processing Record 23 of Set 5 | Tautira\n",
      "Processing Record 24 of Set 5 | Krasnosel'kup\n",
      "Processing Record 25 of Set 5 | Nara\n",
      "Processing Record 26 of Set 5 | City of San Pedro\n",
      "Processing Record 27 of Set 5 | Tessaoua\n",
      "Processing Record 28 of Set 5 | Kvarkeno\n",
      "City 'ngukurr' not found; skipping...\n",
      "Processing Record 29 of Set 5 | Nanzhang\n",
      "City 'temaraia' not found; skipping...\n",
      "Processing Record 30 of Set 5 | Kropotkin\n",
      "Processing Record 31 of Set 5 | Sabang\n",
      "Processing Record 32 of Set 5 | Olafsvik\n",
      "Processing Record 33 of Set 5 | Sande\n",
      "Processing Record 34 of Set 5 | Nanortalik\n",
      "City 'meyungs' not found; skipping...\n",
      "Processing Record 35 of Set 5 | Puerto Vallarta\n",
      "Processing Record 36 of Set 5 | Mount Gambier\n",
      "Processing Record 37 of Set 5 | Puerto Madryn\n",
      "Processing Record 38 of Set 5 | Atar\n",
      "Processing Record 39 of Set 5 | Tampakan\n",
      "City 'bobonong' not found; skipping...\n",
      "Processing Record 40 of Set 5 | Laguna\n",
      "Processing Record 41 of Set 5 | Khatanga\n",
      "City 'jinchengjiang' not found; skipping...\n",
      "Processing Record 42 of Set 5 | Shingū\n",
      "Processing Record 43 of Set 5 | Concarneau\n",
      "Processing Record 44 of Set 5 | Zapolyarnyy\n",
      "Processing Record 45 of Set 5 | Poltavka\n",
      "Processing Record 46 of Set 5 | Salto\n",
      "City 'mys shmidta' not found; skipping...\n",
      "Processing Record 47 of Set 5 | Tabas\n",
      "Processing Record 48 of Set 5 | Lakes Entrance\n",
      "Processing Record 49 of Set 5 | Husavik\n",
      "Processing Record 50 of Set 5 | Cidreira\n",
      "Processing Record 1 of Set 6 | Tuatapere\n",
      "Processing Record 2 of Set 6 | Chu\n",
      "City 'gilgil' not found; skipping...\n",
      "Processing Record 3 of Set 6 | Guilin\n",
      "Processing Record 4 of Set 6 | Bonavista\n",
      "Processing Record 5 of Set 6 | Sigli\n",
      "Processing Record 6 of Set 6 | Dinguiraye\n",
      "Processing Record 7 of Set 6 | Yamethin\n",
      "Processing Record 8 of Set 6 | Mount Isa\n",
      "Processing Record 9 of Set 6 | Flagstaff\n",
      "Processing Record 10 of Set 6 | Ambon City\n",
      "Processing Record 11 of Set 6 | Junín\n",
      "Processing Record 12 of Set 6 | Aktash\n",
      "Processing Record 13 of Set 6 | Gouré\n",
      "Processing Record 14 of Set 6 | Itupiranga\n",
      "Processing Record 15 of Set 6 | Los Llanos de Aridane\n",
      "Processing Record 16 of Set 6 | San Patricio\n",
      "Processing Record 17 of Set 6 | Maragogi\n",
      "Processing Record 18 of Set 6 | Saint Paul Harbor\n",
      "Processing Record 19 of Set 6 | Narsaq\n",
      "Processing Record 20 of Set 6 | Strelka\n",
      "Processing Record 21 of Set 6 | Benjamin Constant\n",
      "Processing Record 22 of Set 6 | Farmington\n",
      "Processing Record 23 of Set 6 | Fort Nelson\n",
      "Processing Record 24 of Set 6 | Tūkrah\n",
      "Processing Record 25 of Set 6 | Goma\n",
      "Processing Record 26 of Set 6 | San Carlos\n",
      "Processing Record 27 of Set 6 | Corinth\n",
      "Processing Record 28 of Set 6 | Zhangjiakou Shi Xuanhua Qu\n",
      "Processing Record 29 of Set 6 | Kavaratti\n",
      "Processing Record 30 of Set 6 | São Filipe\n",
      "Processing Record 31 of Set 6 | Nome\n",
      "Processing Record 32 of Set 6 | Aykhal\n",
      "Processing Record 33 of Set 6 | Yeppoon\n",
      "Processing Record 34 of Set 6 | Constantine\n",
      "Processing Record 35 of Set 6 | Lingao\n",
      "Processing Record 36 of Set 6 | Santa Rita\n",
      "Processing Record 37 of Set 6 | Dhrāngadhra\n",
      "Processing Record 38 of Set 6 | Buala\n",
      "Processing Record 39 of Set 6 | Haines Junction\n",
      "Processing Record 40 of Set 6 | Hlotse\n",
      "Processing Record 41 of Set 6 | Louis Trichardt\n",
      "Processing Record 42 of Set 6 | Abu Samrah\n",
      "Processing Record 43 of Set 6 | Knysna\n",
      "Processing Record 44 of Set 6 | Lexington\n",
      "Processing Record 45 of Set 6 | Eilat\n",
      "Processing Record 46 of Set 6 | Berlevåg\n",
      "Processing Record 47 of Set 6 | Arraias\n",
      "Processing Record 48 of Set 6 | Sangar\n",
      "City 'grand river south east' not found; skipping...\n",
      "Processing Record 49 of Set 6 | Rawson\n",
      "Processing Record 50 of Set 6 | High Level\n",
      "Processing Record 1 of Set 7 | Abu Dhabi\n",
      "Processing Record 2 of Set 7 | East London\n",
      "Processing Record 3 of Set 7 | Ngama\n",
      "Processing Record 4 of Set 7 | Yar-Sale\n",
      "Processing Record 5 of Set 7 | Akdepe\n",
      "Processing Record 6 of Set 7 | Sola\n",
      "Processing Record 7 of Set 7 | Bariloche\n",
      "Processing Record 8 of Set 7 | Blagoveshchenka\n",
      "Processing Record 9 of Set 7 | Granadilla de Abona\n",
      "Processing Record 10 of Set 7 | Gravelbourg\n",
      "Processing Record 11 of Set 7 | Strezhevoy\n",
      "Processing Record 12 of Set 7 | Provideniya\n",
      "Processing Record 13 of Set 7 | Tual\n",
      "Processing Record 14 of Set 7 | Pemba\n",
      "Processing Record 15 of Set 7 | Nago\n",
      "Processing Record 16 of Set 7 | Nhamundá\n",
      "Processing Record 17 of Set 7 | Mpongwe\n",
      "Processing Record 18 of Set 7 | Mokhsogollokh\n",
      "City 'hihifo' not found; skipping...\n",
      "Processing Record 19 of Set 7 | Cuajinicuilapa\n",
      "Processing Record 20 of Set 7 | Port Keats\n",
      "Processing Record 21 of Set 7 | Santa Maria\n",
      "Processing Record 22 of Set 7 | Baikunthpur\n",
      "Processing Record 23 of Set 7 | Cedrales\n",
      "City 'rawannawi' not found; skipping...\n",
      "Processing Record 24 of Set 7 | Koutiala\n",
      "Processing Record 25 of Set 7 | Kamenka\n",
      "Processing Record 26 of Set 7 | Changde\n",
      "Processing Record 27 of Set 7 | Emerald\n",
      "Processing Record 28 of Set 7 | Mumbwa\n",
      "Processing Record 29 of Set 7 | Falkenberg\n",
      "Processing Record 30 of Set 7 | Uporovo\n",
      "Processing Record 31 of Set 7 | Naze\n",
      "Processing Record 32 of Set 7 | Fomboni\n",
      "Processing Record 33 of Set 7 | San Lorenzo\n",
      "Processing Record 34 of Set 7 | Kalininsk\n",
      "Processing Record 35 of Set 7 | Shubarshi\n",
      "Processing Record 36 of Set 7 | Puerto Madero\n",
      "Processing Record 37 of Set 7 | Souillac\n",
      "Processing Record 38 of Set 7 | Kaz\n",
      "Processing Record 39 of Set 7 | Nishihara\n",
      "Processing Record 40 of Set 7 | Mumbai\n",
      "City 'aflu' not found; skipping...\n",
      "Processing Record 41 of Set 7 | Mahajanga\n",
      "Processing Record 42 of Set 7 | Tommot\n",
      "Processing Record 43 of Set 7 | Igarka\n",
      "Processing Record 44 of Set 7 | Stornoway\n",
      "Processing Record 45 of Set 7 | Acapulco de Juárez\n",
      "Processing Record 46 of Set 7 | São Félix do Xingu\n",
      "Processing Record 47 of Set 7 | Bitung\n",
      "Processing Record 48 of Set 7 | The Valley\n",
      "Processing Record 49 of Set 7 | Narrabri\n",
      "Processing Record 50 of Set 7 | Vestmanna\n",
      "Processing Record 1 of Set 8 | Sorong\n",
      "Processing Record 2 of Set 8 | Kisi\n",
      "Processing Record 3 of Set 8 | Yuancheng\n",
      "Processing Record 4 of Set 8 | Berdigestyakh\n",
      "Processing Record 5 of Set 8 | Motozintla\n",
      "Processing Record 6 of Set 8 | Port Blair\n",
      "Processing Record 7 of Set 8 | Margate\n",
      "Processing Record 8 of Set 8 | Subate\n",
      "Processing Record 9 of Set 8 | Visby\n",
      "Processing Record 10 of Set 8 | Lethem\n",
      "Processing Record 11 of Set 8 | Sarāhan\n",
      "Processing Record 12 of Set 8 | Krasnyy Kholm\n",
      "Processing Record 13 of Set 8 | Pionerskiy\n",
      "Processing Record 14 of Set 8 | Karratha\n",
      "City 'vaitupu' not found; skipping...\n",
      "Processing Record 15 of Set 8 | Honningsvåg\n",
      "Processing Record 16 of Set 8 | Narón\n",
      "Processing Record 17 of Set 8 | Nemuro\n",
      "Processing Record 18 of Set 8 | Valdivia\n",
      "Processing Record 19 of Set 8 | Mikhaylovka\n"
     ]
    },
    {
     "name": "stdout",
     "output_type": "stream",
     "text": [
      "Processing Record 20 of Set 8 | Yulara\n",
      "Processing Record 21 of Set 8 | Kralendijk\n",
      "City 'sentyabrskiy' not found; skipping...\n",
      "Processing Record 22 of Set 8 | Bawku\n",
      "Processing Record 23 of Set 8 | Māngrol\n",
      "Processing Record 24 of Set 8 | Henties Bay\n",
      "City 'jiddah' not found; skipping...\n",
      "Processing Record 25 of Set 8 | Dandong\n",
      "City 'autopan' not found; skipping...\n",
      "Processing Record 26 of Set 8 | Marabu\n",
      "Processing Record 27 of Set 8 | Portobelo\n",
      "City 'bolungarvik' not found; skipping...\n",
      "Processing Record 28 of Set 8 | Ormara\n",
      "City 'ambodifototra' not found; skipping...\n",
      "Processing Record 29 of Set 8 | Valentín Gómez Farías\n",
      "Processing Record 30 of Set 8 | Shetpe\n",
      "City 'samalaeulu' not found; skipping...\n",
      "Processing Record 31 of Set 8 | Razumnoye\n",
      "Processing Record 32 of Set 8 | Aksay\n",
      "Processing Record 33 of Set 8 | Kungurtug\n",
      "Processing Record 34 of Set 8 | Iskateley\n",
      "Processing Record 35 of Set 8 | Marquette\n",
      "Processing Record 36 of Set 8 | Altea\n",
      "Processing Record 37 of Set 8 | Zhalantun\n",
      "Processing Record 38 of Set 8 | Cabildo\n",
      "Processing Record 39 of Set 8 | Faanui\n",
      "Processing Record 40 of Set 8 | Heinola\n",
      "City 'north marysville' not found; skipping...\n",
      "Processing Record 41 of Set 8 | Belyy Yar\n",
      "Processing Record 42 of Set 8 | Río Gallegos\n",
      "Processing Record 43 of Set 8 | Acarí\n",
      "Processing Record 44 of Set 8 | Vila Franca do Campo\n",
      "Processing Record 45 of Set 8 | La Peca\n",
      "Processing Record 46 of Set 8 | Lagos\n",
      "Processing Record 47 of Set 8 | Boa Vista\n",
      "Processing Record 48 of Set 8 | Sitka\n",
      "Processing Record 49 of Set 8 | Zhigansk\n",
      "Processing Record 50 of Set 8 | Wanning\n",
      "City 'gardan diwal' not found; skipping...\n",
      "Processing Record 1 of Set 9 | Harbour Breton\n",
      "Processing Record 2 of Set 9 | Bac Lieu\n",
      "Processing Record 3 of Set 9 | Yerbogachën\n",
      "City 'uwayl' not found; skipping...\n",
      "Processing Record 4 of Set 9 | Mitú\n",
      "Processing Record 5 of Set 9 | Ulladulla\n",
      "Processing Record 6 of Set 9 | Chul'man\n",
      "Processing Record 7 of Set 9 | Yumen\n",
      "Processing Record 8 of Set 9 | Lhokseumawe\n",
      "Processing Record 9 of Set 9 | Ghanzi\n",
      "Processing Record 10 of Set 9 | Kupang\n",
      "Processing Record 11 of Set 9 | Biltine\n",
      "Processing Record 12 of Set 9 | Hastings\n",
      "Processing Record 13 of Set 9 | Arman'\n",
      "City 'kamenskoye' not found; skipping...\n",
      "Processing Record 14 of Set 9 | Neiafu\n",
      "Processing Record 15 of Set 9 | Pierre\n",
      "Processing Record 16 of Set 9 | Lata\n",
      "Processing Record 17 of Set 9 | Petauke\n",
      "City 'mankovo-kalitvenskoye' not found; skipping...\n",
      "Processing Record 18 of Set 9 | Evensk\n",
      "Processing Record 19 of Set 9 | Togur\n",
      "City 'grand centre' not found; skipping...\n",
      "City 'paradwip' not found; skipping...\n",
      "Processing Record 20 of Set 9 | Guaymas\n",
      "Processing Record 21 of Set 9 | Pimentel\n",
      "Processing Record 22 of Set 9 | Katangli\n",
      "Processing Record 23 of Set 9 | Taikang\n",
      "Processing Record 24 of Set 9 | Marsá Maţrūḩ\n",
      "Processing Record 25 of Set 9 | Paso de los Toros\n",
      "Processing Record 26 of Set 9 | Xunchang\n",
      "Processing Record 27 of Set 9 | Bahía Solano\n",
      "Processing Record 28 of Set 9 | Fare\n",
      "Processing Record 29 of Set 9 | Leshukonskoye\n",
      "Processing Record 30 of Set 9 | Angleton\n",
      "Processing Record 31 of Set 9 | Inhuma\n",
      "Processing Record 32 of Set 9 | Kamskiye Polyany\n",
      "City 'skalistyy' not found; skipping...\n",
      "Processing Record 33 of Set 9 | Saint Anthony\n",
      "Processing Record 34 of Set 9 | Chapada dos Guimarães\n",
      "Processing Record 35 of Set 9 | Ranong\n",
      "Processing Record 36 of Set 9 | Muhos\n",
      "Processing Record 37 of Set 9 | Iranshahr\n",
      "Processing Record 38 of Set 9 | Gravdal\n",
      "Processing Record 39 of Set 9 | Staryy Nadym\n",
      "Processing Record 40 of Set 9 | Mujiayingzi\n",
      "Processing Record 41 of Set 9 | Haslett\n",
      "Processing Record 42 of Set 9 | Antofagasta\n",
      "Processing Record 43 of Set 9 | Ixtapa\n",
      "Processing Record 44 of Set 9 | Turan\n",
      "City 'attawapiskat' not found; skipping...\n",
      "Processing Record 45 of Set 9 | Yuba City\n",
      "Processing Record 46 of Set 9 | Port Hawkesbury\n",
      "Processing Record 47 of Set 9 | Mayor Pablo Lagerenza\n",
      "Processing Record 48 of Set 9 | Omboué\n",
      "Processing Record 49 of Set 9 | Grenville\n",
      "Processing Record 50 of Set 9 | Izhevskoye\n",
      "Processing Record 1 of Set 10 | San Miguel de Tucumán\n",
      "Processing Record 2 of Set 10 | Opuwo\n",
      "Processing Record 3 of Set 10 | Iqaluit\n",
      "Processing Record 4 of Set 10 | College\n",
      "Processing Record 5 of Set 10 | Eureka\n",
      "Processing Record 6 of Set 10 | Dicabisagan\n",
      "Processing Record 7 of Set 10 | Camrose\n",
      "Processing Record 8 of Set 10 | Moree\n",
      "City 'louisbourg' not found; skipping...\n",
      "Processing Record 9 of Set 10 | Asău\n",
      "Processing Record 10 of Set 10 | Poum\n",
      "Processing Record 11 of Set 10 | Guatire\n",
      "Processing Record 12 of Set 10 | Hamilton\n",
      "Processing Record 13 of Set 10 | Abhaynagar\n",
      "Processing Record 14 of Set 10 | Egvekinot\n",
      "Processing Record 15 of Set 10 | Muli\n",
      "Processing Record 16 of Set 10 | Ontario\n",
      "Processing Record 17 of Set 10 | Toamasina\n",
      "Processing Record 18 of Set 10 | Bambous Virieux\n",
      "Processing Record 19 of Set 10 | Parker\n",
      "Processing Record 20 of Set 10 | Usogorsk\n",
      "Processing Record 21 of Set 10 | Zhuhai\n",
      "Processing Record 22 of Set 10 | Conde\n",
      "Processing Record 23 of Set 10 | Jalu\n",
      "Processing Record 24 of Set 10 | Hofn\n",
      "Processing Record 25 of Set 10 | Jiuquan\n",
      "Processing Record 26 of Set 10 | Nioro\n",
      "Processing Record 27 of Set 10 | Grimshaw\n",
      "Processing Record 28 of Set 10 | São Miguel do Araguaia\n",
      "City 'guicheng' not found; skipping...\n",
      "Processing Record 29 of Set 10 | Half Moon Bay\n",
      "Processing Record 30 of Set 10 | Bambanglipuro\n",
      "Processing Record 31 of Set 10 | Kutum\n",
      "Processing Record 32 of Set 10 | Cochabamba\n",
      "Processing Record 33 of Set 10 | Port Hedland\n",
      "Processing Record 34 of Set 10 | Wilmington\n",
      "Processing Record 35 of Set 10 | Nelson Bay\n",
      "Processing Record 36 of Set 10 | Turka\n",
      "Processing Record 37 of Set 10 | Caranavi\n",
      "City 'toliary' not found; skipping...\n",
      "Processing Record 38 of Set 10 | Baharly\n",
      "Processing Record 39 of Set 10 | Bartica\n",
      "Processing Record 40 of Set 10 | Rocha\n",
      "Processing Record 41 of Set 10 | Fukuechō\n",
      "Processing Record 42 of Set 10 | Eltham\n",
      "Processing Record 43 of Set 10 | Duarte\n",
      "Processing Record 44 of Set 10 | Bloomington\n",
      "City 'phan rang' not found; skipping...\n",
      "Processing Record 45 of Set 10 | Kushiro\n",
      "Processing Record 46 of Set 10 | Teknāf\n",
      "Processing Record 47 of Set 10 | Nador\n",
      "Processing Record 48 of Set 10 | Lorengau\n",
      "Processing Record 49 of Set 10 | Port Augusta\n",
      "Processing Record 50 of Set 10 | Patrocínio\n",
      "Processing Record 1 of Set 11 | Nacala\n",
      "Processing Record 2 of Set 11 | Taoudenni\n",
      "Processing Record 3 of Set 11 | Te Anau\n",
      "Processing Record 4 of Set 11 | Kuruman\n",
      "Processing Record 5 of Set 11 | Raudeberg\n",
      "Processing Record 6 of Set 11 | Salinópolis\n",
      "Processing Record 7 of Set 11 | Mudgee\n",
      "City 'karamea' not found; skipping...\n",
      "Processing Record 8 of Set 11 | Maniitsoq\n",
      "Processing Record 9 of Set 11 | Tongzi\n",
      "Processing Record 10 of Set 11 | Araranguá\n",
      "Processing Record 11 of Set 11 | Leeuwarden\n",
      "Processing Record 12 of Set 11 | Trelew\n",
      "Processing Record 13 of Set 11 | Jiangyou\n",
      "City 'tawnat' not found; skipping...\n",
      "Processing Record 14 of Set 11 | Shirokiy\n",
      "Processing Record 15 of Set 11 | Surok\n",
      "Processing Record 16 of Set 11 | Talnakh\n",
      "Processing Record 17 of Set 11 | Benghazi\n",
      "Processing Record 18 of Set 11 | Bom Jesus da Lapa\n",
      "Processing Record 19 of Set 11 | Ashtian\n",
      "Processing Record 20 of Set 11 | Matamoros\n",
      "Processing Record 21 of Set 11 | Inverell\n",
      "Processing Record 22 of Set 11 | Iquitos\n",
      "City 'gorno-chuyskiy' not found; skipping...\n",
      "Processing Record 23 of Set 11 | Ancud\n",
      "Processing Record 24 of Set 11 | Mariehamn\n",
      "Processing Record 25 of Set 11 | Warmbad\n",
      "Processing Record 26 of Set 11 | Emba\n",
      "Processing Record 27 of Set 11 | Aripuanã\n",
      "Processing Record 28 of Set 11 | Mossamedes\n",
      "Processing Record 29 of Set 11 | Cookeville\n",
      "Processing Record 30 of Set 11 | Kurmanayevka\n",
      "Processing Record 31 of Set 11 | Mumford\n",
      "Processing Record 32 of Set 11 | Merauke\n",
      "Processing Record 33 of Set 11 | Mórrope\n",
      "Processing Record 34 of Set 11 | Mehamn\n",
      "Processing Record 35 of Set 11 | Tall Kayf\n",
      "Processing Record 36 of Set 11 | Fairlie\n",
      "Processing Record 37 of Set 11 | Qui Nhon\n",
      "Processing Record 38 of Set 11 | Corn Island\n",
      "City 'tabialan' not found; skipping...\n",
      "Processing Record 39 of Set 11 | Borovoy\n",
      "Processing Record 40 of Set 11 | Kirakira\n",
      "Processing Record 41 of Set 11 | Elko\n",
      "Processing Record 42 of Set 11 | Krasnyy Chikoy\n",
      "Processing Record 43 of Set 11 | Kousséri\n"
     ]
    },
    {
     "name": "stdout",
     "output_type": "stream",
     "text": [
      "Processing Record 44 of Set 11 | Gorontalo\n",
      "City 'marathopolis' not found; skipping...\n",
      "Processing Record 45 of Set 11 | Buenavista\n",
      "City 'samusu' not found; skipping...\n",
      "Processing Record 46 of Set 11 | Kresttsy\n",
      "Processing Record 47 of Set 11 | Agnibilékrou\n",
      "Processing Record 48 of Set 11 | Hanahan\n",
      "Processing Record 49 of Set 11 | Vangaindrano\n",
      "Processing Record 50 of Set 11 | Amahai\n",
      "Processing Record 1 of Set 12 | Petatlán\n",
      "Processing Record 2 of Set 12 | Røros\n",
      "Processing Record 3 of Set 12 | Jumla\n",
      "Processing Record 4 of Set 12 | Zarubino\n",
      "------------------------------\n",
      "Data Retrieval Complete\n",
      "------------------------------\n"
     ]
    }
   ],
   "source": [
    "#Create empty lists to store the sets and records described in the starter output\n",
    "city_sets = []\n",
    "city_records = []\n",
    "\n",
    "print(\"Beginning Data Retrieval\")\n",
    "print(\"------------------------------\")\n",
    "\n",
    "#Iterate through all the cities, capturing weather data downloaded\n",
    "for city in cities:\n",
    "    \n",
    "    try:\n",
    "        #Build the query by adding the current city name to the base URL\n",
    "        query = f\"{base_url}{city}\"\n",
    "        \n",
    "        #Execute the query and get its JSON result\n",
    "        response = requests.get(f\"{query}&appid={weather_api_key}\")\n",
    "        json = response.json()\n",
    "\n",
    "        #Identify the city's sequence in the results\n",
    "        #(A city not found will cause a KeyError when attempting to read its name below)\n",
    "        print(f\"Processing Record {str(len(city_records) + 1)} of Set {str(len(city_sets) + 1)} | {json['name']}\")\n",
    "        city_records.append(json)\n",
    "    \n",
    "    #Handle KeyErrors (that happen when a city is not found)\n",
    "    except KeyError:\n",
    "        \n",
    "        #Report that the requested city is not found\n",
    "        print(f\"City '{city}' not found; skipping...\")\n",
    "\n",
    "    #Pause between requests to avoid getting shut down as a spammer\n",
    "    time.sleep(1) \n",
    "    \n",
    "    if (len(city_records) >= 50):    \n",
    "        city_sets.append(city_records)\n",
    "        city_records = []\n",
    "    \n",
    "print(\"------------------------------\")\n",
    "print(\"Data Retrieval Complete\")\n",
    "print(\"------------------------------\")\n",
    "        "
   ]
  },
  {
   "cell_type": "markdown",
   "metadata": {},
   "source": [
    "### Convert Raw Data to DataFrame\n",
    "* Export the city data into a .csv.\n",
    "* Display the DataFrame"
   ]
  },
  {
   "cell_type": "code",
   "execution_count": 47,
   "metadata": {},
   "outputs": [
    {
     "data": {
      "text/plain": [
       "City          550\n",
       "Lat           550\n",
       "Lng           550\n",
       "Max Temp      550\n",
       "Humidity      550\n",
       "Cloudiness    550\n",
       "Wind Speed    550\n",
       "Country       550\n",
       "Date          550\n",
       "dtype: int64"
      ]
     },
     "execution_count": 47,
     "metadata": {},
     "output_type": "execute_result"
    }
   ],
   "source": [
    "#create a blank list to store the transformed weather data \n",
    "cities = []\n",
    "\n",
    "#Iterate through the sets from above\n",
    "for city_set in city_sets:\n",
    "    \n",
    "    #Iterate through each city record in the current set\n",
    "    for record in city_set:\n",
    "        \n",
    "            #Create a blank dictionary to store the current record\n",
    "            city = {}\n",
    "            \n",
    "            #Add key-values to the dictionary from the current record\n",
    "            city['City'] = record['name']\n",
    "            city['Lat'] = record['coord']['lat']\n",
    "            city['Lng'] = record['coord']['lon']\n",
    "            city['Max Temp'] = record['main']['temp_max']\n",
    "            city['Humidity'] = record['main']['humidity']\n",
    "            city['Cloudiness'] = record['clouds']['all']\n",
    "            city['Wind Speed'] = record['wind']['speed']\n",
    "            city['Country'] = record['sys']['country']\n",
    "            city['Date'] = record['dt']\n",
    "            \n",
    "            #Add the current dictionary to the list of cities\n",
    "            cities.append(city)\n",
    "\n",
    "#Create a dataframe from the list of cities, using its keys as headers, and output to a csv file\n",
    "city_data = pd.DataFrame(cities)\n",
    "city_data.to_csv(output_data_file, index=False, encoding='utf-8')\n",
    "city_data.count()"
   ]
  },
  {
   "cell_type": "code",
   "execution_count": 48,
   "metadata": {},
   "outputs": [
    {
     "data": {
      "text/html": [
       "<div>\n",
       "<style scoped>\n",
       "    .dataframe tbody tr th:only-of-type {\n",
       "        vertical-align: middle;\n",
       "    }\n",
       "\n",
       "    .dataframe tbody tr th {\n",
       "        vertical-align: top;\n",
       "    }\n",
       "\n",
       "    .dataframe thead th {\n",
       "        text-align: right;\n",
       "    }\n",
       "</style>\n",
       "<table border=\"1\" class=\"dataframe\">\n",
       "  <thead>\n",
       "    <tr style=\"text-align: right;\">\n",
       "      <th></th>\n",
       "      <th>City</th>\n",
       "      <th>Lat</th>\n",
       "      <th>Lng</th>\n",
       "      <th>Max Temp</th>\n",
       "      <th>Humidity</th>\n",
       "      <th>Cloudiness</th>\n",
       "      <th>Wind Speed</th>\n",
       "      <th>Country</th>\n",
       "      <th>Date</th>\n",
       "    </tr>\n",
       "  </thead>\n",
       "  <tbody>\n",
       "    <tr>\n",
       "      <th>0</th>\n",
       "      <td>Rikitea</td>\n",
       "      <td>-23.12</td>\n",
       "      <td>-134.97</td>\n",
       "      <td>73.33</td>\n",
       "      <td>82</td>\n",
       "      <td>100</td>\n",
       "      <td>11.30</td>\n",
       "      <td>PF</td>\n",
       "      <td>1595004539</td>\n",
       "    </tr>\n",
       "    <tr>\n",
       "      <th>1</th>\n",
       "      <td>Barrow</td>\n",
       "      <td>71.29</td>\n",
       "      <td>-156.79</td>\n",
       "      <td>33.80</td>\n",
       "      <td>86</td>\n",
       "      <td>90</td>\n",
       "      <td>14.99</td>\n",
       "      <td>US</td>\n",
       "      <td>1595004602</td>\n",
       "    </tr>\n",
       "    <tr>\n",
       "      <th>2</th>\n",
       "      <td>Chapais</td>\n",
       "      <td>49.78</td>\n",
       "      <td>-74.85</td>\n",
       "      <td>75.20</td>\n",
       "      <td>69</td>\n",
       "      <td>20</td>\n",
       "      <td>9.17</td>\n",
       "      <td>CA</td>\n",
       "      <td>1595004460</td>\n",
       "    </tr>\n",
       "    <tr>\n",
       "      <th>3</th>\n",
       "      <td>Castro</td>\n",
       "      <td>-24.79</td>\n",
       "      <td>-50.01</td>\n",
       "      <td>71.28</td>\n",
       "      <td>58</td>\n",
       "      <td>62</td>\n",
       "      <td>5.12</td>\n",
       "      <td>BR</td>\n",
       "      <td>1595004726</td>\n",
       "    </tr>\n",
       "    <tr>\n",
       "      <th>4</th>\n",
       "      <td>Pevek</td>\n",
       "      <td>69.70</td>\n",
       "      <td>170.31</td>\n",
       "      <td>41.29</td>\n",
       "      <td>93</td>\n",
       "      <td>80</td>\n",
       "      <td>2.04</td>\n",
       "      <td>RU</td>\n",
       "      <td>1595004727</td>\n",
       "    </tr>\n",
       "  </tbody>\n",
       "</table>\n",
       "</div>"
      ],
      "text/plain": [
       "      City    Lat     Lng  Max Temp  Humidity  Cloudiness  Wind Speed Country  \\\n",
       "0  Rikitea -23.12 -134.97     73.33        82         100       11.30      PF   \n",
       "1   Barrow  71.29 -156.79     33.80        86          90       14.99      US   \n",
       "2  Chapais  49.78  -74.85     75.20        69          20        9.17      CA   \n",
       "3   Castro -24.79  -50.01     71.28        58          62        5.12      BR   \n",
       "4    Pevek  69.70  170.31     41.29        93          80        2.04      RU   \n",
       "\n",
       "         Date  \n",
       "0  1595004539  \n",
       "1  1595004602  \n",
       "2  1595004460  \n",
       "3  1595004726  \n",
       "4  1595004727  "
      ]
     },
     "execution_count": 48,
     "metadata": {},
     "output_type": "execute_result"
    }
   ],
   "source": [
    "#Load city data from CSV to avoid having to poll the API again (also to work with same set of cities)\n",
    "city_data = pd.read_csv(output_data_file, encoding='utf-8')\n",
    "\n",
    "#Display the first 5 rows of the dataframe for reference\n",
    "city_data.head()"
   ]
  },
  {
   "cell_type": "markdown",
   "metadata": {},
   "source": [
    "## Inspect the data and remove the cities where the humidity > 100%.\n",
    "----\n",
    "Skip this step if there are no cities that have humidity > 100%. "
   ]
  },
  {
   "cell_type": "code",
   "execution_count": 49,
   "metadata": {
    "scrolled": true
   },
   "outputs": [
    {
     "data": {
      "text/html": [
       "<div>\n",
       "<style scoped>\n",
       "    .dataframe tbody tr th:only-of-type {\n",
       "        vertical-align: middle;\n",
       "    }\n",
       "\n",
       "    .dataframe tbody tr th {\n",
       "        vertical-align: top;\n",
       "    }\n",
       "\n",
       "    .dataframe thead th {\n",
       "        text-align: right;\n",
       "    }\n",
       "</style>\n",
       "<table border=\"1\" class=\"dataframe\">\n",
       "  <thead>\n",
       "    <tr style=\"text-align: right;\">\n",
       "      <th></th>\n",
       "      <th>Lat</th>\n",
       "      <th>Lng</th>\n",
       "      <th>Max Temp</th>\n",
       "      <th>Humidity</th>\n",
       "      <th>Cloudiness</th>\n",
       "      <th>Wind Speed</th>\n",
       "      <th>Date</th>\n",
       "    </tr>\n",
       "  </thead>\n",
       "  <tbody>\n",
       "    <tr>\n",
       "      <th>count</th>\n",
       "      <td>550.000000</td>\n",
       "      <td>550.000000</td>\n",
       "      <td>550.000000</td>\n",
       "      <td>550.000000</td>\n",
       "      <td>550.000000</td>\n",
       "      <td>550.000000</td>\n",
       "      <td>5.500000e+02</td>\n",
       "    </tr>\n",
       "    <tr>\n",
       "      <th>mean</th>\n",
       "      <td>19.902473</td>\n",
       "      <td>14.835600</td>\n",
       "      <td>70.256545</td>\n",
       "      <td>68.149091</td>\n",
       "      <td>49.029091</td>\n",
       "      <td>8.088891</td>\n",
       "      <td>1.595005e+09</td>\n",
       "    </tr>\n",
       "    <tr>\n",
       "      <th>std</th>\n",
       "      <td>34.178724</td>\n",
       "      <td>89.959146</td>\n",
       "      <td>14.944893</td>\n",
       "      <td>21.211133</td>\n",
       "      <td>36.820332</td>\n",
       "      <td>5.348835</td>\n",
       "      <td>2.095738e+02</td>\n",
       "    </tr>\n",
       "    <tr>\n",
       "      <th>min</th>\n",
       "      <td>-54.800000</td>\n",
       "      <td>-179.170000</td>\n",
       "      <td>23.000000</td>\n",
       "      <td>9.000000</td>\n",
       "      <td>0.000000</td>\n",
       "      <td>0.580000</td>\n",
       "      <td>1.595004e+09</td>\n",
       "    </tr>\n",
       "    <tr>\n",
       "      <th>25%</th>\n",
       "      <td>-8.990000</td>\n",
       "      <td>-62.770000</td>\n",
       "      <td>59.000000</td>\n",
       "      <td>55.000000</td>\n",
       "      <td>12.250000</td>\n",
       "      <td>4.297500</td>\n",
       "      <td>1.595005e+09</td>\n",
       "    </tr>\n",
       "    <tr>\n",
       "      <th>50%</th>\n",
       "      <td>25.405000</td>\n",
       "      <td>20.055000</td>\n",
       "      <td>72.450000</td>\n",
       "      <td>72.000000</td>\n",
       "      <td>47.500000</td>\n",
       "      <td>6.930000</td>\n",
       "      <td>1.595005e+09</td>\n",
       "    </tr>\n",
       "    <tr>\n",
       "      <th>75%</th>\n",
       "      <td>49.775000</td>\n",
       "      <td>96.900000</td>\n",
       "      <td>81.000000</td>\n",
       "      <td>85.000000</td>\n",
       "      <td>86.750000</td>\n",
       "      <td>11.382500</td>\n",
       "      <td>1.595005e+09</td>\n",
       "    </tr>\n",
       "    <tr>\n",
       "      <th>max</th>\n",
       "      <td>78.220000</td>\n",
       "      <td>178.420000</td>\n",
       "      <td>113.830000</td>\n",
       "      <td>100.000000</td>\n",
       "      <td>100.000000</td>\n",
       "      <td>34.180000</td>\n",
       "      <td>1.595005e+09</td>\n",
       "    </tr>\n",
       "  </tbody>\n",
       "</table>\n",
       "</div>"
      ],
      "text/plain": [
       "              Lat         Lng    Max Temp    Humidity  Cloudiness  Wind Speed  \\\n",
       "count  550.000000  550.000000  550.000000  550.000000  550.000000  550.000000   \n",
       "mean    19.902473   14.835600   70.256545   68.149091   49.029091    8.088891   \n",
       "std     34.178724   89.959146   14.944893   21.211133   36.820332    5.348835   \n",
       "min    -54.800000 -179.170000   23.000000    9.000000    0.000000    0.580000   \n",
       "25%     -8.990000  -62.770000   59.000000   55.000000   12.250000    4.297500   \n",
       "50%     25.405000   20.055000   72.450000   72.000000   47.500000    6.930000   \n",
       "75%     49.775000   96.900000   81.000000   85.000000   86.750000   11.382500   \n",
       "max     78.220000  178.420000  113.830000  100.000000  100.000000   34.180000   \n",
       "\n",
       "               Date  \n",
       "count  5.500000e+02  \n",
       "mean   1.595005e+09  \n",
       "std    2.095738e+02  \n",
       "min    1.595004e+09  \n",
       "25%    1.595005e+09  \n",
       "50%    1.595005e+09  \n",
       "75%    1.595005e+09  \n",
       "max    1.595005e+09  "
      ]
     },
     "execution_count": 49,
     "metadata": {},
     "output_type": "execute_result"
    }
   ],
   "source": [
    "#The max humidity value tells us if we have any \"error\" cities\n",
    "city_data.describe()"
   ]
  },
  {
   "cell_type": "code",
   "execution_count": 50,
   "metadata": {},
   "outputs": [
    {
     "data": {
      "text/plain": [
       "Int64Index([], dtype='int64')"
      ]
     },
     "execution_count": 50,
     "metadata": {},
     "output_type": "execute_result"
    }
   ],
   "source": [
    "#  Get the indices of cities that have humidity over 100%.\n",
    "err_index = city_data.loc[city_data['Humidity'] > 100].index\n",
    "err_index"
   ]
  },
  {
   "cell_type": "code",
   "execution_count": 51,
   "metadata": {},
   "outputs": [
    {
     "data": {
      "text/html": [
       "<div>\n",
       "<style scoped>\n",
       "    .dataframe tbody tr th:only-of-type {\n",
       "        vertical-align: middle;\n",
       "    }\n",
       "\n",
       "    .dataframe tbody tr th {\n",
       "        vertical-align: top;\n",
       "    }\n",
       "\n",
       "    .dataframe thead th {\n",
       "        text-align: right;\n",
       "    }\n",
       "</style>\n",
       "<table border=\"1\" class=\"dataframe\">\n",
       "  <thead>\n",
       "    <tr style=\"text-align: right;\">\n",
       "      <th></th>\n",
       "      <th>City</th>\n",
       "      <th>Lat</th>\n",
       "      <th>Lng</th>\n",
       "      <th>Max Temp</th>\n",
       "      <th>Humidity</th>\n",
       "      <th>Cloudiness</th>\n",
       "      <th>Wind Speed</th>\n",
       "      <th>Country</th>\n",
       "      <th>Date</th>\n",
       "    </tr>\n",
       "  </thead>\n",
       "  <tbody>\n",
       "    <tr>\n",
       "      <th>0</th>\n",
       "      <td>Rikitea</td>\n",
       "      <td>-23.12</td>\n",
       "      <td>-134.97</td>\n",
       "      <td>73.33</td>\n",
       "      <td>82</td>\n",
       "      <td>100</td>\n",
       "      <td>11.30</td>\n",
       "      <td>PF</td>\n",
       "      <td>1595004539</td>\n",
       "    </tr>\n",
       "    <tr>\n",
       "      <th>1</th>\n",
       "      <td>Barrow</td>\n",
       "      <td>71.29</td>\n",
       "      <td>-156.79</td>\n",
       "      <td>33.80</td>\n",
       "      <td>86</td>\n",
       "      <td>90</td>\n",
       "      <td>14.99</td>\n",
       "      <td>US</td>\n",
       "      <td>1595004602</td>\n",
       "    </tr>\n",
       "    <tr>\n",
       "      <th>2</th>\n",
       "      <td>Chapais</td>\n",
       "      <td>49.78</td>\n",
       "      <td>-74.85</td>\n",
       "      <td>75.20</td>\n",
       "      <td>69</td>\n",
       "      <td>20</td>\n",
       "      <td>9.17</td>\n",
       "      <td>CA</td>\n",
       "      <td>1595004460</td>\n",
       "    </tr>\n",
       "    <tr>\n",
       "      <th>3</th>\n",
       "      <td>Castro</td>\n",
       "      <td>-24.79</td>\n",
       "      <td>-50.01</td>\n",
       "      <td>71.28</td>\n",
       "      <td>58</td>\n",
       "      <td>62</td>\n",
       "      <td>5.12</td>\n",
       "      <td>BR</td>\n",
       "      <td>1595004726</td>\n",
       "    </tr>\n",
       "    <tr>\n",
       "      <th>4</th>\n",
       "      <td>Pevek</td>\n",
       "      <td>69.70</td>\n",
       "      <td>170.31</td>\n",
       "      <td>41.29</td>\n",
       "      <td>93</td>\n",
       "      <td>80</td>\n",
       "      <td>2.04</td>\n",
       "      <td>RU</td>\n",
       "      <td>1595004727</td>\n",
       "    </tr>\n",
       "  </tbody>\n",
       "</table>\n",
       "</div>"
      ],
      "text/plain": [
       "      City    Lat     Lng  Max Temp  Humidity  Cloudiness  Wind Speed Country  \\\n",
       "0  Rikitea -23.12 -134.97     73.33        82         100       11.30      PF   \n",
       "1   Barrow  71.29 -156.79     33.80        86          90       14.99      US   \n",
       "2  Chapais  49.78  -74.85     75.20        69          20        9.17      CA   \n",
       "3   Castro -24.79  -50.01     71.28        58          62        5.12      BR   \n",
       "4    Pevek  69.70  170.31     41.29        93          80        2.04      RU   \n",
       "\n",
       "         Date  \n",
       "0  1595004539  \n",
       "1  1595004602  \n",
       "2  1595004460  \n",
       "3  1595004726  \n",
       "4  1595004727  "
      ]
     },
     "execution_count": 51,
     "metadata": {},
     "output_type": "execute_result"
    }
   ],
   "source": [
    "# Make a new DataFrame equal to the city data to drop all humidity outliers by index.\n",
    "# Passing \"inplace=False\" will make a copy of the city_data DataFrame, which we call \"clean_city_data\".\n",
    "clean_city_data = city_data.drop(err_index, inplace=False)\n",
    "clean_city_data.head()"
   ]
  },
  {
   "cell_type": "code",
   "execution_count": 52,
   "metadata": {},
   "outputs": [],
   "source": [
    "# Extract relevant fields from the data frame\n",
    "\n",
    "# Clean up the format of the date column to make its values more readable\n",
    "clean_city_data[\"Date\"] = pd.to_datetime(clean_city_data[\"Date\"], unit='s').dt.strftime('%m/%d/%y')\n",
    "\n",
    "# Export the City_Data into a csv\n",
    "clean_city_data.to_csv(\"output_data/city_data_clean.csv\", index=False, encoding='utf-8')"
   ]
  },
  {
   "cell_type": "code",
   "execution_count": 53,
   "metadata": {},
   "outputs": [
    {
     "data": {
      "text/html": [
       "<div>\n",
       "<style scoped>\n",
       "    .dataframe tbody tr th:only-of-type {\n",
       "        vertical-align: middle;\n",
       "    }\n",
       "\n",
       "    .dataframe tbody tr th {\n",
       "        vertical-align: top;\n",
       "    }\n",
       "\n",
       "    .dataframe thead th {\n",
       "        text-align: right;\n",
       "    }\n",
       "</style>\n",
       "<table border=\"1\" class=\"dataframe\">\n",
       "  <thead>\n",
       "    <tr style=\"text-align: right;\">\n",
       "      <th></th>\n",
       "      <th>City</th>\n",
       "      <th>Lat</th>\n",
       "      <th>Lng</th>\n",
       "      <th>Max Temp</th>\n",
       "      <th>Humidity</th>\n",
       "      <th>Cloudiness</th>\n",
       "      <th>Wind Speed</th>\n",
       "      <th>Country</th>\n",
       "      <th>Date</th>\n",
       "    </tr>\n",
       "  </thead>\n",
       "  <tbody>\n",
       "    <tr>\n",
       "      <th>0</th>\n",
       "      <td>Rikitea</td>\n",
       "      <td>-23.12</td>\n",
       "      <td>-134.97</td>\n",
       "      <td>73.33</td>\n",
       "      <td>82</td>\n",
       "      <td>100</td>\n",
       "      <td>11.30</td>\n",
       "      <td>PF</td>\n",
       "      <td>07/17/20</td>\n",
       "    </tr>\n",
       "    <tr>\n",
       "      <th>1</th>\n",
       "      <td>Barrow</td>\n",
       "      <td>71.29</td>\n",
       "      <td>-156.79</td>\n",
       "      <td>33.80</td>\n",
       "      <td>86</td>\n",
       "      <td>90</td>\n",
       "      <td>14.99</td>\n",
       "      <td>US</td>\n",
       "      <td>07/17/20</td>\n",
       "    </tr>\n",
       "    <tr>\n",
       "      <th>2</th>\n",
       "      <td>Chapais</td>\n",
       "      <td>49.78</td>\n",
       "      <td>-74.85</td>\n",
       "      <td>75.20</td>\n",
       "      <td>69</td>\n",
       "      <td>20</td>\n",
       "      <td>9.17</td>\n",
       "      <td>CA</td>\n",
       "      <td>07/17/20</td>\n",
       "    </tr>\n",
       "    <tr>\n",
       "      <th>3</th>\n",
       "      <td>Castro</td>\n",
       "      <td>-24.79</td>\n",
       "      <td>-50.01</td>\n",
       "      <td>71.28</td>\n",
       "      <td>58</td>\n",
       "      <td>62</td>\n",
       "      <td>5.12</td>\n",
       "      <td>BR</td>\n",
       "      <td>07/17/20</td>\n",
       "    </tr>\n",
       "    <tr>\n",
       "      <th>4</th>\n",
       "      <td>Pevek</td>\n",
       "      <td>69.70</td>\n",
       "      <td>170.31</td>\n",
       "      <td>41.29</td>\n",
       "      <td>93</td>\n",
       "      <td>80</td>\n",
       "      <td>2.04</td>\n",
       "      <td>RU</td>\n",
       "      <td>07/17/20</td>\n",
       "    </tr>\n",
       "  </tbody>\n",
       "</table>\n",
       "</div>"
      ],
      "text/plain": [
       "      City    Lat     Lng  Max Temp  Humidity  Cloudiness  Wind Speed Country  \\\n",
       "0  Rikitea -23.12 -134.97     73.33        82         100       11.30      PF   \n",
       "1   Barrow  71.29 -156.79     33.80        86          90       14.99      US   \n",
       "2  Chapais  49.78  -74.85     75.20        69          20        9.17      CA   \n",
       "3   Castro -24.79  -50.01     71.28        58          62        5.12      BR   \n",
       "4    Pevek  69.70  170.31     41.29        93          80        2.04      RU   \n",
       "\n",
       "       Date  \n",
       "0  07/17/20  \n",
       "1  07/17/20  \n",
       "2  07/17/20  \n",
       "3  07/17/20  \n",
       "4  07/17/20  "
      ]
     },
     "execution_count": 53,
     "metadata": {},
     "output_type": "execute_result"
    }
   ],
   "source": [
    "# This is done to work with the same data set if the kernel has to be shut down while work is in progress\n",
    "clean_city_data = pd.read_csv(\"output_data/city_data_clean.csv\", encoding='utf-8')\n",
    "clean_city_data.head()"
   ]
  },
  {
   "cell_type": "markdown",
   "metadata": {},
   "source": [
    "## Plotting the Data\n",
    "* Use proper labeling of the plots using plot titles (including date of analysis) and axes labels.\n",
    "* Save the plotted figures as .pngs."
   ]
  },
  {
   "cell_type": "markdown",
   "metadata": {},
   "source": [
    "## Latitude vs. Temperature Plot"
   ]
  },
  {
   "cell_type": "code",
   "execution_count": 54,
   "metadata": {
    "scrolled": true
   },
   "outputs": [
    {
     "data": {
      "image/png": "[encoded data removed]",
      "text/plain": [
       "<Figure size 432x288 with 1 Axes>"
      ]
     },
     "metadata": {
      "needs_background": "light"
     },
     "output_type": "display_data"
    }
   ],
   "source": [
    "# Create a variable for the polling date (this will be reused in various plot titles)\n",
    "# (Assumes all data was polled on the same date)\n",
    "poll_date = clean_city_data['Date'].array[0]\n",
    "\n",
    "# Scatter plot latitude vs maximum temperature\n",
    "x_axis = clean_city_data['Lat']\n",
    "y_axis = clean_city_data['Max Temp']\n",
    "plt.scatter(x_axis, y_axis, edgecolor='black')\n",
    "plt.xlabel('Latitude')\n",
    "plt.ylabel('Max Temperature (F)')\n",
    "plt.title(f'City Latitude vs. Max Temperature ({poll_date})')\n",
    "plt.grid(b=True, which='major', axis='both')\n",
    "plt.savefig('output_data/lat-v-temp.png')\n",
    "plt.show()\n",
    "\n",
    "# This coded analyzes city latitude vs its temperature. There seems to be a pretty strong correlation,\n",
    "# with the warmest temperatures near the equator (0) and coldest temperatures near the poles (+/-90). Further,\n",
    "# seasonality of temperate zones (+/-20 to +/-40) is reflected with warmer temperatures in the northern\n",
    "# latitudes than in the southern ones, where it is winter in July."
   ]
  },
  {
   "cell_type": "markdown",
   "metadata": {},
   "source": [
    "## Latitude vs. Humidity Plot"
   ]
  },
  {
   "cell_type": "code",
   "execution_count": 55,
   "metadata": {},
   "outputs": [
    {
     "data": {
      "image/png": "[encoded data removed]",
      "text/plain": [
       "<Figure size 432x288 with 1 Axes>"
      ]
     },
     "metadata": {
      "needs_background": "light"
     },
     "output_type": "display_data"
    }
   ],
   "source": [
    "# Scatter plot latitude vs humidity\n",
    "x_axis = clean_city_data['Lat']\n",
    "y_axis = clean_city_data['Humidity']\n",
    "plt.scatter(x_axis, y_axis, edgecolor='black')\n",
    "plt.xlabel('Latitude')\n",
    "plt.ylabel('Humidity (%)')\n",
    "plt.title(f'City Latitude vs. Humidity ({poll_date})')\n",
    "plt.grid(b=True, which='major', axis='both')\n",
    "plt.savefig('output_data/lat-v-humidity.png')\n",
    "plt.show()\n",
    "\n",
    "#This plot analyzes humidity at cities of varying latitudes. There does not seem to be any kind\n",
    "#of relationship between the 2, as there is no pattern to the chart."
   ]
  },
  {
   "cell_type": "markdown",
   "metadata": {},
   "source": [
    "## Latitude vs. Cloudiness Plot"
   ]
  },
  {
   "cell_type": "code",
   "execution_count": 56,
   "metadata": {},
   "outputs": [
    {
     "data": {
      "image/png": "[encoded data removed]",
      "text/plain": [
       "<Figure size 432x288 with 1 Axes>"
      ]
     },
     "metadata": {
      "needs_background": "light"
     },
     "output_type": "display_data"
    }
   ],
   "source": [
    "# Scatter plot latitude vs cloudiness\n",
    "x_axis = clean_city_data['Lat']\n",
    "y_axis = clean_city_data['Cloudiness']\n",
    "plt.scatter(x_axis, y_axis, edgecolor='black')\n",
    "plt.xlabel('Latitude')\n",
    "plt.ylabel('Cloudiness (%)')\n",
    "plt.title(f'City Latitude vs. Cloudiness ({poll_date})')\n",
    "plt.grid(b=True, which='major', axis='both')\n",
    "plt.savefig('output_data/lat-v-cloudiness.png')\n",
    "plt.show()\n",
    "\n",
    "#This plot shows the cloudiness for cities at varying latitudes. Again, there seems to be very little\n",
    "#if any correlation between a city's latitude and its cloudiness."
   ]
  },
  {
   "cell_type": "markdown",
   "metadata": {},
   "source": [
    "## Latitude vs. Wind Speed Plot"
   ]
  },
  {
   "cell_type": "code",
   "execution_count": 57,
   "metadata": {},
   "outputs": [
    {
     "data": {
      "image/png": "[encoded data removed]",
      "text/plain": [
       "<Figure size 432x288 with 1 Axes>"
      ]
     },
     "metadata": {
      "needs_background": "light"
     },
     "output_type": "display_data"
    }
   ],
   "source": [
    "# Scatter plot latitude vs cloudiness\n",
    "x_axis = clean_city_data['Lat']\n",
    "y_axis = clean_city_data['Wind Speed']\n",
    "plt.scatter(x_axis, y_axis, edgecolor='black')\n",
    "plt.xlabel('Latitude')\n",
    "plt.ylabel('Wind Speed (mph)')\n",
    "plt.title(f'City Latitude vs. Wind Speed ({poll_date})')\n",
    "plt.grid(b=True, which='major', axis='both')\n",
    "plt.savefig('output_data/lat-v-windspeed.png')\n",
    "plt.show()\n",
    "\n",
    "#This plot shows the wind speed for cities at varying latitudes. There seems to be a consistent 0-15 mph wind\n",
    "#in most cities, while a few at varying latitudes have higher speeds, possibly due to storms, etc."
   ]
  },
  {
   "cell_type": "markdown",
   "metadata": {},
   "source": [
    "## Linear Regression"
   ]
  },
  {
   "cell_type": "code",
   "execution_count": 64,
   "metadata": {},
   "outputs": [],
   "source": [
    "# OPTIONAL: Create a function to create Linear Regression plots\n",
    "def mylinregress(x_values, y_values):\n",
    "    (slope, intercept, rvalue, pvalue, stderr) = linregress(x_values, y_values)\n",
    "    regress_values = x_values * slope + intercept\n",
    "    line_eq = f\"y = {str(round(slope,2))}x + {str(round(intercept,2))}\"\n",
    "    \n",
    "    return regress_values, line_eq, rvalue"
   ]
  },
  {
   "cell_type": "code",
   "execution_count": 65,
   "metadata": {},
   "outputs": [],
   "source": [
    "# Create Northern and Southern Hemisphere DataFrames\n",
    "northern_df = clean_city_data[clean_city_data[\"Lat\"] >= 0]\n",
    "southern_df = clean_city_data[clean_city_data[\"Lat\"] < 0]"
   ]
  },
  {
   "cell_type": "markdown",
   "metadata": {},
   "source": [
    "####  Northern Hemisphere - Max Temp vs. Latitude Linear Regression"
   ]
  },
  {
   "cell_type": "code",
   "execution_count": 72,
   "metadata": {},
   "outputs": [
    {
     "name": "stdout",
     "output_type": "stream",
     "text": [
      "The r-squared is: 0.49526634298386685\n"
     ]
    },
    {
     "data": {
      "image/png": "[encoded data removed]",
      "text/plain": [
       "<Figure size 432x288 with 1 Axes>"
      ]
     },
     "metadata": {
      "needs_background": "light"
     },
     "output_type": "display_data"
    }
   ],
   "source": [
    "#Define x and y axes\n",
    "x_values = northern_df['Lat']\n",
    "y_values = northern_df['Max Temp']\n",
    "\n",
    "#Define liner regression from above custom function\n",
    "(regress_values, line_eq, rvalue) = mylinregress(x_values, y_values)\n",
    "\n",
    "#Plot the results\n",
    "plt.scatter(x_values,y_values)\n",
    "plt.plot(x_values,regress_values,\"r-\")\n",
    "plt.annotate(line_eq,(10,50),fontsize=15,color=\"red\")\n",
    "plt.xlabel('Latitude')\n",
    "plt.ylabel('Max Temp (F)')\n",
    "plt.title(f'Northern Hemisphere Latitude vs. Max Temp ({poll_date})')\n",
    "plt.savefig(\"output_data/nh-lat-v-temp.png\")\n",
    "print(f\"The r-squared is: {rvalue**2}\")\n",
    "plt.show()"
   ]
  },
  {
   "cell_type": "markdown",
   "metadata": {},
   "source": [
    "####  Southern Hemisphere - Max Temp vs. Latitude Linear Regression"
   ]
  },
  {
   "cell_type": "code",
   "execution_count": 73,
   "metadata": {},
   "outputs": [
    {
     "name": "stdout",
     "output_type": "stream",
     "text": [
      "The r-squared is: 0.6182550980661188\n"
     ]
    },
    {
     "data": {
      "image/png": "[encoded data removed]",
      "text/plain": [
       "<Figure size 432x288 with 1 Axes>"
      ]
     },
     "metadata": {
      "needs_background": "light"
     },
     "output_type": "display_data"
    }
   ],
   "source": [
    "#Define x and y axes\n",
    "x_values = southern_df['Lat']\n",
    "y_values = southern_df['Max Temp']\n",
    "\n",
    "#Define liner regression from above custom function\n",
    "(regress_values, line_eq, rvalue) = mylinregress(x_values, y_values)\n",
    "\n",
    "#Plot the results\n",
    "plt.scatter(x_values,y_values)\n",
    "plt.plot(x_values,regress_values,\"r-\")\n",
    "plt.annotate(line_eq,(-40,30),fontsize=15,color=\"red\")\n",
    "plt.xlabel('Latitude')\n",
    "plt.ylabel('Max Temp (F)')\n",
    "plt.title(f'Southern Hemisphere Latitude vs. Max Temp ({poll_date})')\n",
    "plt.savefig(\"output_data/sh-lat-v-temp.png\")\n",
    "print(f\"The r-squared is: {rvalue**2}\")\n",
    "plt.show()\n",
    "\n",
    "#In both hemispheres, we see a strong correlation between a city's latitude and max temp, both by the\n",
    "#concentration of dots and the r-squared value. This is to be expected,\n",
    "#as latitudes closer to the equator (0) are generally warmer than latitudes near the poles (+/-90)"
   ]
  },
  {
   "cell_type": "markdown",
   "metadata": {},
   "source": [
    "####  Northern Hemisphere - Humidity (%) vs. Latitude Linear Regression"
   ]
  },
  {
   "cell_type": "code",
   "execution_count": 78,
   "metadata": {},
   "outputs": [
    {
     "name": "stdout",
     "output_type": "stream",
     "text": [
      "The r-squared is: 0.0005912626847354253\n"
     ]
    },
    {
     "data": {
      "image/png": "[encoded data removed]",
      "text/plain": [
       "<Figure size 432x288 with 1 Axes>"
      ]
     },
     "metadata": {
      "needs_background": "light"
     },
     "output_type": "display_data"
    }
   ],
   "source": [
    "#Define x and y axes\n",
    "x_values = northern_df['Lat']\n",
    "y_values = northern_df['Humidity']\n",
    "\n",
    "#Define liner regression from above custom function\n",
    "(regress_values, line_eq, rvalue) = mylinregress(x_values, y_values)\n",
    "\n",
    "#Plot the results\n",
    "plt.scatter(x_values,y_values)\n",
    "plt.plot(x_values,regress_values,\"r-\")\n",
    "plt.annotate(line_eq,(40,30),fontsize=15,color=\"red\")\n",
    "plt.xlabel('Latitude')\n",
    "plt.ylabel('Humidity (%)')\n",
    "plt.title(f'Northern Hemisphere Latitude vs. Humidity ({poll_date})')\n",
    "plt.savefig(\"output_data/nh-lat-v-humidity.png\")\n",
    "print(f\"The r-squared is: {rvalue**2}\")\n",
    "plt.show()"
   ]
  },
  {
   "cell_type": "markdown",
   "metadata": {},
   "source": [
    "####  Southern Hemisphere - Humidity (%) vs. Latitude Linear Regression"
   ]
  },
  {
   "cell_type": "code",
   "execution_count": 80,
   "metadata": {},
   "outputs": [
    {
     "name": "stdout",
     "output_type": "stream",
     "text": [
      "The r-squared is: 0.0271139698687876\n"
     ]
    },
    {
     "data": {
      "image/png": "[encoded data removed]",
      "text/plain": [
       "<Figure size 432x288 with 1 Axes>"
      ]
     },
     "metadata": {
      "needs_background": "light"
     },
     "output_type": "display_data"
    }
   ],
   "source": [
    "#Define x and y axes\n",
    "x_values = southern_df['Lat']\n",
    "y_values = southern_df['Humidity']\n",
    "\n",
    "#Define liner regression from above custom function\n",
    "(regress_values, line_eq, rvalue) = mylinregress(x_values, y_values)\n",
    "\n",
    "#Plot the results\n",
    "plt.scatter(x_values,y_values)\n",
    "plt.plot(x_values,regress_values,\"r-\")\n",
    "plt.annotate(line_eq,(-50,50),fontsize=15,color=\"red\")\n",
    "plt.xlabel('Latitude')\n",
    "plt.ylabel('Humidity (%)')\n",
    "plt.title(f'Southern Hemisphere Latitude vs. Humidity ({poll_date})')\n",
    "plt.savefig(\"output_data/sh-lat-v-humidity.png\")\n",
    "print(f\"The r-squared is: {rvalue**2}\")\n",
    "plt.show()\n",
    "\n",
    "#In the northern hemisphere we see a higher humidity across all latitudes, while the southern hemisphere\n",
    "#is much more varied. This is reflected both in the concentration of the dots as well as r-squared. This also\n",
    "#suggest that higher temperatures, from northern hemisphere summer, also cause higher humidity."
   ]
  },
  {
   "cell_type": "markdown",
   "metadata": {},
   "source": [
    "####  Northern Hemisphere - Cloudiness (%) vs. Latitude Linear Regression"
   ]
  },
  {
   "cell_type": "code",
   "execution_count": 81,
   "metadata": {},
   "outputs": [
    {
     "name": "stdout",
     "output_type": "stream",
     "text": [
      "The r-squared is: 0.0020218111103879562\n"
     ]
    },
    {
     "data": {
      "image/png": "[encoded data removed]",
      "text/plain": [
       "<Figure size 432x288 with 1 Axes>"
      ]
     },
     "metadata": {
      "needs_background": "light"
     },
     "output_type": "display_data"
    }
   ],
   "source": [
    "#Define x and y axes\n",
    "x_values = northern_df['Lat']\n",
    "y_values = northern_df['Cloudiness']\n",
    "\n",
    "#Define liner regression from above custom function\n",
    "(regress_values, line_eq, rvalue) = mylinregress(x_values, y_values)\n",
    "\n",
    "#Plot the results\n",
    "plt.scatter(x_values,y_values)\n",
    "plt.plot(x_values,regress_values,\"r-\")\n",
    "plt.annotate(line_eq,(40,30),fontsize=15,color=\"red\")\n",
    "plt.xlabel('Latitude')\n",
    "plt.ylabel('Cloudiness (%)')\n",
    "plt.title(f'Northern Hemisphere Latitude vs. Cloudiness ({poll_date})')\n",
    "plt.savefig(\"output_data/nh-lat-v-cloudiness.png\")\n",
    "print(f\"The r-squared is: {rvalue**2}\")\n",
    "plt.show()"
   ]
  },
  {
   "cell_type": "markdown",
   "metadata": {},
   "source": [
    "####  Southern Hemisphere - Cloudiness (%) vs. Latitude Linear Regression"
   ]
  },
  {
   "cell_type": "code",
   "execution_count": 83,
   "metadata": {},
   "outputs": [
    {
     "name": "stdout",
     "output_type": "stream",
     "text": [
      "The r-squared is: 0.001416251280245259\n"
     ]
    },
    {
     "data": {
      "image/png": "[encoded data removed]",
      "text/plain": [
       "<Figure size 432x288 with 1 Axes>"
      ]
     },
     "metadata": {
      "needs_background": "light"
     },
     "output_type": "display_data"
    }
   ],
   "source": [
    "#Define x and y axes\n",
    "x_values = southern_df['Lat']\n",
    "y_values = southern_df['Cloudiness']\n",
    "\n",
    "#Define liner regression from above custom function\n",
    "(regress_values, line_eq, rvalue) = mylinregress(x_values, y_values)\n",
    "\n",
    "#Plot the results\n",
    "plt.scatter(x_values,y_values)\n",
    "plt.plot(x_values,regress_values,\"r-\")\n",
    "plt.annotate(line_eq,(-50,60),fontsize=15,color=\"red\")\n",
    "plt.xlabel('Latitude')\n",
    "plt.ylabel('Cloudiness (%)')\n",
    "plt.title(f'Southern Hemisphere Latitude vs. Cloudiness ({poll_date})')\n",
    "plt.savefig(\"output_data/sh-lat-v-cloudiness.png\")\n",
    "print(f\"The r-squared is: {rvalue**2}\")\n",
    "plt.show()\n",
    "\n",
    "#These plots analyzes cloudiness of cities at varying latitudes. While the overall correlation between\n",
    "#cloudiness and latitude is almost non-existent, we do see a very slightly higher correlation in the \n",
    "#northern hemisphere, suggesting that its higher temps (summertime) may actually help burn up clouds\n",
    "#a little bit more than their wintertime counterparts."
   ]
  },
  {
   "cell_type": "markdown",
   "metadata": {},
   "source": [
    "####  Northern Hemisphere - Wind Speed (mph) vs. Latitude Linear Regression"
   ]
  },
  {
   "cell_type": "code",
   "execution_count": 84,
   "metadata": {},
   "outputs": [
    {
     "name": "stdout",
     "output_type": "stream",
     "text": [
      "The r-squared is: 0.004242468254007806\n"
     ]
    },
    {
     "data": {
      "image/png": "[encoded data removed]",
      "text/plain": [
       "<Figure size 432x288 with 1 Axes>"
      ]
     },
     "metadata": {
      "needs_background": "light"
     },
     "output_type": "display_data"
    }
   ],
   "source": [
    "#Define x and y axes\n",
    "x_values = northern_df['Lat']\n",
    "y_values = northern_df['Wind Speed']\n",
    "\n",
    "#Define liner regression from above custom function\n",
    "(regress_values, line_eq, rvalue) = mylinregress(x_values, y_values)\n",
    "\n",
    "#Plot the results\n",
    "plt.scatter(x_values,y_values)\n",
    "plt.plot(x_values,regress_values,\"r-\")\n",
    "plt.annotate(line_eq,(40,30),fontsize=15,color=\"red\")\n",
    "plt.xlabel('Latitude')\n",
    "plt.ylabel('Wind Speed (mph)')\n",
    "plt.title(f'Northern Hemisphere Latitude vs. Wind Speed ({poll_date})')\n",
    "plt.savefig(\"output_data/nh-lat-v-windspeed.png\")\n",
    "print(f\"The r-squared is: {rvalue**2}\")\n",
    "plt.show()"
   ]
  },
  {
   "cell_type": "markdown",
   "metadata": {},
   "source": [
    "####  Southern Hemisphere - Wind Speed (mph) vs. Latitude Linear Regression"
   ]
  },
  {
   "cell_type": "code",
   "execution_count": 87,
   "metadata": {},
   "outputs": [
    {
     "name": "stdout",
     "output_type": "stream",
     "text": [
      "The r-squared is: 0.0030375912881464608\n"
     ]
    },
    {
     "data": {
      "image/png": "[encoded data removed]",
      "text/plain": [
       "<Figure size 432x288 with 1 Axes>"
      ]
     },
     "metadata": {
      "needs_background": "light"
     },
     "output_type": "display_data"
    }
   ],
   "source": [
    "#Define x and y axes\n",
    "x_values = southern_df['Lat']\n",
    "y_values = southern_df['Wind Speed']\n",
    "\n",
    "#Define liner regression from above custom function\n",
    "(regress_values, line_eq, rvalue) = mylinregress(x_values, y_values)\n",
    "\n",
    "#Plot the results\n",
    "plt.scatter(x_values,y_values)\n",
    "plt.plot(x_values,regress_values,\"r-\")\n",
    "plt.annotate(line_eq,(-50,18),fontsize=15,color=\"red\")\n",
    "plt.xlabel('Latitude')\n",
    "plt.ylabel('Wind Speed (mph)')\n",
    "plt.title(f'Southern Hemisphere Latitude vs. Wind Speed ({poll_date})')\n",
    "plt.savefig(\"output_data/sh-lat-v-windspeed.png\")\n",
    "print(f\"The r-squared is: {rvalue**2}\")\n",
    "plt.show()\n",
    "\n",
    "#These plots analyze wind speed of cities at varying latitudes. There appears to be a consistent, non-existent \n",
    "#relationship between the two, suggesting that neither latitude nor season have much of an impact on wind speed."
   ]
  },
  {
   "cell_type": "code",
   "execution_count": 26,
   "metadata": {},
   "outputs": [],
   "source": [
    "#Overall observations:\n",
    "#.   1. There is a strong, direct correlation between both latitude and season, and temperature. \n",
    "#.      The closer to the equator, the higher its temperature. Also, the hemisphere in summer has higher temps\n",
    "#.      in its temperate latitudes compared to its counterpart in winter.\n",
    "#.   2. While latitude and humidity do not appear to be correlated, humidity does seem to be slightly more-\n",
    "#.      consistently lower in the temperate and polar latitudes of the hemisphere in winter. This could \n",
    "#.      possibly be attributed to cooler temperates (also in the same regions) not holding water vapor as well.\n",
    "#.   3. While latitude and cloudiness also do not appear to be correlated, cloudiness does seem to be slightly\n",
    "#.      more-consistently lower across all latitudes of the hemisphere in summer. This could possibly be\n",
    "#.      attributed to warmer temperatures (also in the same regions), and their associated greater sunshine, \n",
    "#.      better burning off clouds.\n",
    "#.   4. Neither latitude nor season appears to have any notable impact on wind, as it seems to be distributed\n",
    "#.      at different speeds across all latitudes of both hemispheres.\n"
   ]
  },
  {
   "cell_type": "code",
   "execution_count": null,
   "metadata": {},
   "outputs": [],
   "source": []
  }
 ],
 "metadata": {
  "anaconda-cloud": {},
  "kernel_info": {
   "name": "python3"
  },
  "kernelspec": {
   "display_name": "Python 3",
   "language": "python",
   "name": "python3"
  },
  "language_info": {
   "codemirror_mode": {
    "name": "ipython",
    "version": 3
   },
   "file_extension": ".py",
   "mimetype": "text/x-python",
   "name": "python",
   "nbconvert_exporter": "python",
   "pygments_lexer": "ipython3",
   "version": "3.7.6"
  },
  "latex_envs": {
   "LaTeX_envs_menu_present": true,
   "autoclose": false,
   "autocomplete": true,
   "bibliofile": "biblio.bib",
   "cite_by": "apalike",
   "current_citInitial": 1,
   "eqLabelWithNumbers": true,
   "eqNumInitial": 1,
   "hotkeys": {
    "equation": "Ctrl-E",
    "itemize": "Ctrl-I"
   },
   "labels_anchors": false,
   "latex_user_defs": false,
   "report_style_numbering": false,
   "user_envs_cfg": false
  },
  "nteract": {
   "version": "0.12.3"
  }
 },
 "nbformat": 4,
 "nbformat_minor": 2
}
