{
 "cells": [
  {
   "cell_type": "markdown",
   "metadata": {},
   "source": [
    "# VacationPy\n",
    "----\n",
    "\n",
    "#### Note\n",
    "* Instructions have been included for each segment. You do not have to follow them exactly, but they are included to help you think through the steps."
   ]
  },
  {
   "cell_type": "code",
   "execution_count": 1,
   "metadata": {},
   "outputs": [],
   "source": [
    "# Dependencies and Setup\n",
    "import matplotlib.pyplot as plt\n",
    "import pandas as pd\n",
    "import numpy as np\n",
    "import requests\n",
    "import gmaps\n",
    "import os\n",
    "\n",
    "# Import API key\n",
    "from api_keys import g_key"
   ]
  },
  {
   "cell_type": "markdown",
   "metadata": {},
   "source": [
    "### Store Part I results into DataFrame\n",
    "* Load the csv exported in Part I to a DataFrame"
   ]
  },
  {
   "cell_type": "code",
   "execution_count": 2,
   "metadata": {},
   "outputs": [
    {
     "data": {
      "text/html": [
       "<div>\n",
       "<style scoped>\n",
       "    .dataframe tbody tr th:only-of-type {\n",
       "        vertical-align: middle;\n",
       "    }\n",
       "\n",
       "    .dataframe tbody tr th {\n",
       "        vertical-align: top;\n",
       "    }\n",
       "\n",
       "    .dataframe thead th {\n",
       "        text-align: right;\n",
       "    }\n",
       "</style>\n",
       "<table border=\"1\" class=\"dataframe\">\n",
       "  <thead>\n",
       "    <tr style=\"text-align: right;\">\n",
       "      <th></th>\n",
       "      <th>City</th>\n",
       "      <th>Lat</th>\n",
       "      <th>Lng</th>\n",
       "      <th>Max Temp</th>\n",
       "      <th>Humidity</th>\n",
       "      <th>Cloudiness</th>\n",
       "      <th>Wind Speed</th>\n",
       "      <th>Country</th>\n",
       "      <th>Date</th>\n",
       "    </tr>\n",
       "  </thead>\n",
       "  <tbody>\n",
       "    <tr>\n",
       "      <th>0</th>\n",
       "      <td>Rikitea</td>\n",
       "      <td>-23.12</td>\n",
       "      <td>-134.97</td>\n",
       "      <td>73.33</td>\n",
       "      <td>82</td>\n",
       "      <td>100</td>\n",
       "      <td>11.30</td>\n",
       "      <td>PF</td>\n",
       "      <td>07/17/20</td>\n",
       "    </tr>\n",
       "    <tr>\n",
       "      <th>1</th>\n",
       "      <td>Barrow</td>\n",
       "      <td>71.29</td>\n",
       "      <td>-156.79</td>\n",
       "      <td>33.80</td>\n",
       "      <td>86</td>\n",
       "      <td>90</td>\n",
       "      <td>14.99</td>\n",
       "      <td>US</td>\n",
       "      <td>07/17/20</td>\n",
       "    </tr>\n",
       "    <tr>\n",
       "      <th>2</th>\n",
       "      <td>Chapais</td>\n",
       "      <td>49.78</td>\n",
       "      <td>-74.85</td>\n",
       "      <td>75.20</td>\n",
       "      <td>69</td>\n",
       "      <td>20</td>\n",
       "      <td>9.17</td>\n",
       "      <td>CA</td>\n",
       "      <td>07/17/20</td>\n",
       "    </tr>\n",
       "    <tr>\n",
       "      <th>3</th>\n",
       "      <td>Castro</td>\n",
       "      <td>-24.79</td>\n",
       "      <td>-50.01</td>\n",
       "      <td>71.28</td>\n",
       "      <td>58</td>\n",
       "      <td>62</td>\n",
       "      <td>5.12</td>\n",
       "      <td>BR</td>\n",
       "      <td>07/17/20</td>\n",
       "    </tr>\n",
       "    <tr>\n",
       "      <th>4</th>\n",
       "      <td>Pevek</td>\n",
       "      <td>69.70</td>\n",
       "      <td>170.31</td>\n",
       "      <td>41.29</td>\n",
       "      <td>93</td>\n",
       "      <td>80</td>\n",
       "      <td>2.04</td>\n",
       "      <td>RU</td>\n",
       "      <td>07/17/20</td>\n",
       "    </tr>\n",
       "  </tbody>\n",
       "</table>\n",
       "</div>"
      ],
      "text/plain": [
       "      City    Lat     Lng  Max Temp  Humidity  Cloudiness  Wind Speed Country  \\\n",
       "0  Rikitea -23.12 -134.97     73.33        82         100       11.30      PF   \n",
       "1   Barrow  71.29 -156.79     33.80        86          90       14.99      US   \n",
       "2  Chapais  49.78  -74.85     75.20        69          20        9.17      CA   \n",
       "3   Castro -24.79  -50.01     71.28        58          62        5.12      BR   \n",
       "4    Pevek  69.70  170.31     41.29        93          80        2.04      RU   \n",
       "\n",
       "       Date  \n",
       "0  07/17/20  \n",
       "1  07/17/20  \n",
       "2  07/17/20  \n",
       "3  07/17/20  \n",
       "4  07/17/20  "
      ]
     },
     "execution_count": 2,
     "metadata": {},
     "output_type": "execute_result"
    }
   ],
   "source": [
    "cities_df = pd.read_csv(\"../WeatherPy/output_data/city_data_clean.csv\")\n",
    "cities_df.head()"
   ]
  },
  {
   "cell_type": "markdown",
   "metadata": {},
   "source": [
    "### Humidity Heatmap\n",
    "* Configure gmaps.\n",
    "* Use the Lat and Lng as locations and Humidity as the weight.\n",
    "* Add Heatmap layer to map."
   ]
  },
  {
   "cell_type": "code",
   "execution_count": 3,
   "metadata": {},
   "outputs": [],
   "source": [
    "gmaps.configure(api_key=g_key)\n",
    "\n",
    "locations = cities_df[[\"Lat\", \"Lng\"]].astype(float)\n",
    "#cities_df = cities_df.dropna()\n",
    "humidity = cities_df['Humidity'].astype(float)"
   ]
  },
  {
   "cell_type": "code",
   "execution_count": 50,
   "metadata": {},
   "outputs": [
    {
     "data": {
      "application/vnd.jupyter.widget-view+json": {
       "model_id": "5a0b8a266f584b47b3c712a1ec8cfcc1",
       "version_major": 2,
       "version_minor": 0
      },
      "text/plain": [
       "Figure(layout=FigureLayout(height='420px'))"
      ]
     },
     "metadata": {},
     "output_type": "display_data"
    }
   ],
   "source": [
    "#Create a humidity heatmap layer\n",
    "fig = gmaps.figure(center=(0,0), zoom_level=2)\n",
    "\n",
    "humidity_layer = gmaps.heatmap_layer(locations, weights=humidity, dissipating=False, \n",
    "                                     max_intensity=100, point_radius=3)\n",
    "\n",
    "fig.add_layer(humidity_layer)\n",
    "fig"
   ]
  },
  {
   "cell_type": "markdown",
   "metadata": {},
   "source": [
    "### Create new DataFrame fitting weather criteria\n",
    "* Narrow down the cities to fit weather conditions.\n",
    "* Drop any rows will null values."
   ]
  },
  {
   "cell_type": "code",
   "execution_count": 26,
   "metadata": {},
   "outputs": [
    {
     "data": {
      "text/html": [
       "<div>\n",
       "<style scoped>\n",
       "    .dataframe tbody tr th:only-of-type {\n",
       "        vertical-align: middle;\n",
       "    }\n",
       "\n",
       "    .dataframe tbody tr th {\n",
       "        vertical-align: top;\n",
       "    }\n",
       "\n",
       "    .dataframe thead th {\n",
       "        text-align: right;\n",
       "    }\n",
       "</style>\n",
       "<table border=\"1\" class=\"dataframe\">\n",
       "  <thead>\n",
       "    <tr style=\"text-align: right;\">\n",
       "      <th></th>\n",
       "      <th>City</th>\n",
       "      <th>Lat</th>\n",
       "      <th>Lng</th>\n",
       "      <th>Max Temp</th>\n",
       "      <th>Humidity</th>\n",
       "      <th>Cloudiness</th>\n",
       "      <th>Wind Speed</th>\n",
       "      <th>Country</th>\n",
       "      <th>Date</th>\n",
       "    </tr>\n",
       "  </thead>\n",
       "  <tbody>\n",
       "    <tr>\n",
       "      <th>22</th>\n",
       "      <td>Ahar</td>\n",
       "      <td>38.48</td>\n",
       "      <td>47.07</td>\n",
       "      <td>75.65</td>\n",
       "      <td>37</td>\n",
       "      <td>0</td>\n",
       "      <td>5.73</td>\n",
       "      <td>IR</td>\n",
       "      <td>07/17/20</td>\n",
       "    </tr>\n",
       "    <tr>\n",
       "      <th>143</th>\n",
       "      <td>Lüderitz</td>\n",
       "      <td>-26.65</td>\n",
       "      <td>15.16</td>\n",
       "      <td>78.80</td>\n",
       "      <td>16</td>\n",
       "      <td>0</td>\n",
       "      <td>5.82</td>\n",
       "      <td>NaN</td>\n",
       "      <td>07/17/20</td>\n",
       "    </tr>\n",
       "    <tr>\n",
       "      <th>153</th>\n",
       "      <td>Korla</td>\n",
       "      <td>41.76</td>\n",
       "      <td>86.15</td>\n",
       "      <td>82.99</td>\n",
       "      <td>61</td>\n",
       "      <td>0</td>\n",
       "      <td>3.00</td>\n",
       "      <td>CN</td>\n",
       "      <td>07/17/20</td>\n",
       "    </tr>\n",
       "    <tr>\n",
       "      <th>162</th>\n",
       "      <td>Ürümqi</td>\n",
       "      <td>43.80</td>\n",
       "      <td>87.60</td>\n",
       "      <td>84.20</td>\n",
       "      <td>30</td>\n",
       "      <td>0</td>\n",
       "      <td>4.47</td>\n",
       "      <td>CN</td>\n",
       "      <td>07/17/20</td>\n",
       "    </tr>\n",
       "    <tr>\n",
       "      <th>186</th>\n",
       "      <td>Kumul</td>\n",
       "      <td>42.80</td>\n",
       "      <td>93.45</td>\n",
       "      <td>81.99</td>\n",
       "      <td>18</td>\n",
       "      <td>0</td>\n",
       "      <td>5.73</td>\n",
       "      <td>CN</td>\n",
       "      <td>07/17/20</td>\n",
       "    </tr>\n",
       "  </tbody>\n",
       "</table>\n",
       "</div>"
      ],
      "text/plain": [
       "         City    Lat    Lng  Max Temp  Humidity  Cloudiness  Wind Speed  \\\n",
       "22       Ahar  38.48  47.07     75.65        37           0        5.73   \n",
       "143  Lüderitz -26.65  15.16     78.80        16           0        5.82   \n",
       "153     Korla  41.76  86.15     82.99        61           0        3.00   \n",
       "162    Ürümqi  43.80  87.60     84.20        30           0        4.47   \n",
       "186     Kumul  42.80  93.45     81.99        18           0        5.73   \n",
       "\n",
       "    Country      Date  \n",
       "22       IR  07/17/20  \n",
       "143     NaN  07/17/20  \n",
       "153      CN  07/17/20  \n",
       "162      CN  07/17/20  \n",
       "186      CN  07/17/20  "
      ]
     },
     "execution_count": 26,
     "metadata": {},
     "output_type": "execute_result"
    }
   ],
   "source": [
    "index = cities_df.loc[(cities_df['Max Temp'] < 75) |\n",
    "                      (cities_df['Max Temp'] > 85) |\n",
    "                      (cities_df['Wind Speed'] > 10) |\n",
    "                      (cities_df['Cloudiness'] > 0)].index\n",
    "select_cities_df = cities_df.drop(index, inplace=False)\n",
    "select_cities_df.head()"
   ]
  },
  {
   "cell_type": "code",
   "execution_count": 27,
   "metadata": {},
   "outputs": [
    {
     "data": {
      "text/html": [
       "<div>\n",
       "<style scoped>\n",
       "    .dataframe tbody tr th:only-of-type {\n",
       "        vertical-align: middle;\n",
       "    }\n",
       "\n",
       "    .dataframe tbody tr th {\n",
       "        vertical-align: top;\n",
       "    }\n",
       "\n",
       "    .dataframe thead th {\n",
       "        text-align: right;\n",
       "    }\n",
       "</style>\n",
       "<table border=\"1\" class=\"dataframe\">\n",
       "  <thead>\n",
       "    <tr style=\"text-align: right;\">\n",
       "      <th></th>\n",
       "      <th>City</th>\n",
       "      <th>Lat</th>\n",
       "      <th>Lng</th>\n",
       "      <th>Max Temp</th>\n",
       "      <th>Humidity</th>\n",
       "      <th>Cloudiness</th>\n",
       "      <th>Wind Speed</th>\n",
       "      <th>Country</th>\n",
       "      <th>Date</th>\n",
       "    </tr>\n",
       "  </thead>\n",
       "  <tbody>\n",
       "    <tr>\n",
       "      <th>22</th>\n",
       "      <td>Ahar</td>\n",
       "      <td>38.48</td>\n",
       "      <td>47.07</td>\n",
       "      <td>75.65</td>\n",
       "      <td>37</td>\n",
       "      <td>0</td>\n",
       "      <td>5.73</td>\n",
       "      <td>IR</td>\n",
       "      <td>07/17/20</td>\n",
       "    </tr>\n",
       "    <tr>\n",
       "      <th>153</th>\n",
       "      <td>Korla</td>\n",
       "      <td>41.76</td>\n",
       "      <td>86.15</td>\n",
       "      <td>82.99</td>\n",
       "      <td>61</td>\n",
       "      <td>0</td>\n",
       "      <td>3.00</td>\n",
       "      <td>CN</td>\n",
       "      <td>07/17/20</td>\n",
       "    </tr>\n",
       "    <tr>\n",
       "      <th>162</th>\n",
       "      <td>Ürümqi</td>\n",
       "      <td>43.80</td>\n",
       "      <td>87.60</td>\n",
       "      <td>84.20</td>\n",
       "      <td>30</td>\n",
       "      <td>0</td>\n",
       "      <td>4.47</td>\n",
       "      <td>CN</td>\n",
       "      <td>07/17/20</td>\n",
       "    </tr>\n",
       "    <tr>\n",
       "      <th>186</th>\n",
       "      <td>Kumul</td>\n",
       "      <td>42.80</td>\n",
       "      <td>93.45</td>\n",
       "      <td>81.99</td>\n",
       "      <td>18</td>\n",
       "      <td>0</td>\n",
       "      <td>5.73</td>\n",
       "      <td>CN</td>\n",
       "      <td>07/17/20</td>\n",
       "    </tr>\n",
       "    <tr>\n",
       "      <th>384</th>\n",
       "      <td>Marquette</td>\n",
       "      <td>46.53</td>\n",
       "      <td>-87.63</td>\n",
       "      <td>77.00</td>\n",
       "      <td>67</td>\n",
       "      <td>0</td>\n",
       "      <td>1.99</td>\n",
       "      <td>US</td>\n",
       "      <td>07/17/20</td>\n",
       "    </tr>\n",
       "  </tbody>\n",
       "</table>\n",
       "</div>"
      ],
      "text/plain": [
       "          City    Lat    Lng  Max Temp  Humidity  Cloudiness  Wind Speed  \\\n",
       "22        Ahar  38.48  47.07     75.65        37           0        5.73   \n",
       "153      Korla  41.76  86.15     82.99        61           0        3.00   \n",
       "162     Ürümqi  43.80  87.60     84.20        30           0        4.47   \n",
       "186      Kumul  42.80  93.45     81.99        18           0        5.73   \n",
       "384  Marquette  46.53 -87.63     77.00        67           0        1.99   \n",
       "\n",
       "    Country      Date  \n",
       "22       IR  07/17/20  \n",
       "153      CN  07/17/20  \n",
       "162      CN  07/17/20  \n",
       "186      CN  07/17/20  \n",
       "384      US  07/17/20  "
      ]
     },
     "execution_count": 27,
     "metadata": {},
     "output_type": "execute_result"
    }
   ],
   "source": [
    "select_cities_df = select_cities_df.dropna(inplace=False)\n",
    "select_cities_df"
   ]
  },
  {
   "cell_type": "markdown",
   "metadata": {},
   "source": [
    "### Hotel Map\n",
    "* Store into variable named `hotel_df`.\n",
    "* Add a \"Hotel Name\" column to the DataFrame.\n",
    "* Set parameters to search for hotels with 5000 meters.\n",
    "* Hit the Google Places API for each city's coordinates.\n",
    "* Store the first Hotel result into the DataFrame.\n",
    "* Plot markers on top of the heatmap."
   ]
  },
  {
   "cell_type": "code",
   "execution_count": 44,
   "metadata": {},
   "outputs": [
    {
     "data": {
      "text/html": [
       "<div>\n",
       "<style scoped>\n",
       "    .dataframe tbody tr th:only-of-type {\n",
       "        vertical-align: middle;\n",
       "    }\n",
       "\n",
       "    .dataframe tbody tr th {\n",
       "        vertical-align: top;\n",
       "    }\n",
       "\n",
       "    .dataframe thead th {\n",
       "        text-align: right;\n",
       "    }\n",
       "</style>\n",
       "<table border=\"1\" class=\"dataframe\">\n",
       "  <thead>\n",
       "    <tr style=\"text-align: right;\">\n",
       "      <th></th>\n",
       "      <th>Hotel Name</th>\n",
       "    </tr>\n",
       "  </thead>\n",
       "  <tbody>\n",
       "  </tbody>\n",
       "</table>\n",
       "</div>"
      ],
      "text/plain": [
       "Empty DataFrame\n",
       "Columns: [Hotel Name]\n",
       "Index: []"
      ]
     },
     "execution_count": 44,
     "metadata": {},
     "output_type": "execute_result"
    }
   ],
   "source": [
    "hotel_df = pd.DataFrame()\n",
    "hotel_df[\"Hotel Name\"] = []\n",
    "hotel_df"
   ]
  },
  {
   "cell_type": "code",
   "execution_count": 46,
   "metadata": {},
   "outputs": [
    {
     "name": "stdout",
     "output_type": "stream",
     "text": [
      "Searching near Ahar, IR...\n",
      "Searching near Korla, CN...\n",
      "Searching near Ürümqi, CN...\n",
      "Searching near Kumul, CN...\n",
      "Searching near Marquette, US...\n"
     ]
    }
   ],
   "source": [
    "base_url = \"https://maps.googleapis.com/maps/api/place/nearbysearch/json\"\n",
    "hotels = []\n",
    "cities = []\n",
    "countries = []\n",
    "\n",
    "for index, row in select_cities_df.iterrows():\n",
    "    location = f\"{row['Lat']},{row['Lng']}\"\n",
    "    radius = 5000\n",
    "    search_type = \"hotels\"\n",
    "    \n",
    "    params = {\n",
    "        \"location\" : location,\n",
    "        \"radius\" : radius,\n",
    "        \"type\" : search_type,\n",
    "        \"key\" : g_key\n",
    "    }\n",
    "    \n",
    "    try:\n",
    "        print(f\"Searching near {row['City']}, {row['Country']}...\")\n",
    "        response = requests.get(base_url, params=params)\n",
    "        places = response.json()\n",
    "\n",
    "        name = places['results'][0]['name']\n",
    "        \n",
    "        hotels.append(name)\n",
    "        cities.append(row[\"City\"])\n",
    "        countries.append(row[\"Country\"])\n",
    "                \n",
    "    except KeyError:\n",
    "        print(f\"No hotels found within 5000m of {row['City']}, {row['Country']}!\")\n",
    "        \n",
    "hotel_df[\"Hotel Name\"] = hotels\n",
    "hotel_df[\"City\"] = cities\n",
    "hotel_df[\"Country\"] = countries"
   ]
  },
  {
   "cell_type": "code",
   "execution_count": 47,
   "metadata": {},
   "outputs": [
    {
     "data": {
      "text/html": [
       "<div>\n",
       "<style scoped>\n",
       "    .dataframe tbody tr th:only-of-type {\n",
       "        vertical-align: middle;\n",
       "    }\n",
       "\n",
       "    .dataframe tbody tr th {\n",
       "        vertical-align: top;\n",
       "    }\n",
       "\n",
       "    .dataframe thead th {\n",
       "        text-align: right;\n",
       "    }\n",
       "</style>\n",
       "<table border=\"1\" class=\"dataframe\">\n",
       "  <thead>\n",
       "    <tr style=\"text-align: right;\">\n",
       "      <th></th>\n",
       "      <th>Hotel Name</th>\n",
       "      <th>City</th>\n",
       "      <th>Country</th>\n",
       "    </tr>\n",
       "  </thead>\n",
       "  <tbody>\n",
       "    <tr>\n",
       "      <th>0</th>\n",
       "      <td>Ahar</td>\n",
       "      <td>Ahar</td>\n",
       "      <td>IR</td>\n",
       "    </tr>\n",
       "    <tr>\n",
       "      <th>1</th>\n",
       "      <td>Bayingolin Mongol Autonomous Prefecture</td>\n",
       "      <td>Korla</td>\n",
       "      <td>CN</td>\n",
       "    </tr>\n",
       "    <tr>\n",
       "      <th>2</th>\n",
       "      <td>Ürümqi</td>\n",
       "      <td>Ürümqi</td>\n",
       "      <td>CN</td>\n",
       "    </tr>\n",
       "    <tr>\n",
       "      <th>3</th>\n",
       "      <td>Hami</td>\n",
       "      <td>Kumul</td>\n",
       "      <td>CN</td>\n",
       "    </tr>\n",
       "    <tr>\n",
       "      <th>4</th>\n",
       "      <td>Ishpeming</td>\n",
       "      <td>Marquette</td>\n",
       "      <td>US</td>\n",
       "    </tr>\n",
       "  </tbody>\n",
       "</table>\n",
       "</div>"
      ],
      "text/plain": [
       "                                Hotel Name       City Country\n",
       "0                                     Ahar       Ahar      IR\n",
       "1  Bayingolin Mongol Autonomous Prefecture      Korla      CN\n",
       "2                                   Ürümqi     Ürümqi      CN\n",
       "3                                     Hami      Kumul      CN\n",
       "4                                Ishpeming  Marquette      US"
      ]
     },
     "execution_count": 47,
     "metadata": {},
     "output_type": "execute_result"
    }
   ],
   "source": [
    "hotel_df"
   ]
  },
  {
   "cell_type": "code",
   "execution_count": 51,
   "metadata": {},
   "outputs": [],
   "source": [
    "# NOTE: Do not change any of the code in this cell\n",
    "\n",
    "# Using the template add the hotel marks to the heatmap\n",
    "info_box_template = \"\"\"\n",
    "<dl>\n",
    "<dt>Name</dt><dd>{Hotel Name}</dd>\n",
    "<dt>City</dt><dd>{City}</dd>\n",
    "<dt>Country</dt><dd>{Country}</dd>\n",
    "</dl>\n",
    "\"\"\"\n",
    "# Store the DataFrame Row\n",
    "# NOTE: be sure to update with your DataFrame name\n",
    "hotel_info = [info_box_template.format(**row) for index, row in hotel_df.iterrows()]\n",
    "locations = select_cities_df[[\"Lat\", \"Lng\"]]"
   ]
  },
  {
   "cell_type": "code",
   "execution_count": 52,
   "metadata": {},
   "outputs": [
    {
     "data": {
      "application/vnd.jupyter.widget-view+json": {
       "model_id": "5a0b8a266f584b47b3c712a1ec8cfcc1",
       "version_major": 2,
       "version_minor": 0
      },
      "text/plain": [
       "Figure(layout=FigureLayout(height='420px'))"
      ]
     },
     "metadata": {},
     "output_type": "display_data"
    }
   ],
   "source": [
    "# Add marker layer ontop of heat map\n",
    "marker_layer = gmaps.marker_layer(locations, info_box_content=hotel_info)\n",
    "fig.add_layer(marker_layer)\n",
    "\n",
    "# Display figure\n",
    "fig"
   ]
  },
  {
   "cell_type": "code",
   "execution_count": null,
   "metadata": {},
   "outputs": [],
   "source": []
  }
 ],
 "metadata": {
  "kernelspec": {
   "display_name": "Python 3",
   "language": "python",
   "name": "python3"
  },
  "language_info": {
   "codemirror_mode": {
    "name": "ipython",
    "version": 3
   },
   "file_extension": ".py",
   "mimetype": "text/x-python",
   "name": "python",
   "nbconvert_exporter": "python",
   "pygments_lexer": "ipython3",
   "version": "3.7.6"
  },
  "latex_envs": {
   "LaTeX_envs_menu_present": true,
   "autoclose": false,
   "autocomplete": true,
   "bibliofile": "biblio.bib",
   "cite_by": "apalike",
   "current_citInitial": 1,
   "eqLabelWithNumbers": true,
   "eqNumInitial": 1,
   "hotkeys": {
    "equation": "Ctrl-E",
    "itemize": "Ctrl-I"
   },
   "labels_anchors": false,
   "latex_user_defs": false,
   "report_style_numbering": false,
   "user_envs_cfg": false
  }
 },
 "nbformat": 4,
 "nbformat_minor": 2
}
